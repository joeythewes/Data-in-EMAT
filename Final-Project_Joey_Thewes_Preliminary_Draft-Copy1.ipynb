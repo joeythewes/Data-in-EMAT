{
 "cells": [
  {
   "cell_type": "markdown",
   "id": "741d9ac6-ba38-45e5-8287-627410635d4e",
   "metadata": {},
   "source": [
    "The reason for this analysis is because I was very curious about which team within the AFC north has scored the most fantasy points over the last few year. I thought it would be really cool to collect them all and see which has been the best, to then maybe ask the question of which team has produced the best fantasy players, and see if its a team based thing or completely random. My initial thoughts is that its just random, but I thought it would be cool to try to prove whether or not it is truly random."
   ]
  },
  {
   "cell_type": "code",
   "execution_count": 12,
   "id": "793a8552-0e34-471f-be2f-be1f53477efa",
   "metadata": {},
   "outputs": [],
   "source": [
    "import pandas as pd\n",
    "import matplotlib.pyplot as plt\n",
    "import seaborn as sns\n",
    "from scipy import stats\n",
    "import statsmodels.formula.api as smf"
   ]
  },
  {
   "cell_type": "code",
   "execution_count": 2,
   "id": "809e0c74-c5aa-462e-bfde-b71d9e906d12",
   "metadata": {},
   "outputs": [],
   "source": [
    "url_listBen = ['https://www.pro-football-reference.com/players/D/DaltAn00/fantasy/','https://www.pro-football-reference.com/players/B/BurrJo01/fantasy/',\n",
    "            'https://www.pro-football-reference.com/players/G/GreeA.00/fantasy/','https://www.pro-football-reference.com/players/B/BoydTy00/fantasy/',\n",
    "            'https://www.pro-football-reference.com/players/C/ChasJa00/fantasy/','https://www.pro-football-reference.com/players/B/BernGi00/fantasy/',\n",
    "            'https://www.pro-football-reference.com/players/H/HillJe01/fantasy/','https://www.pro-football-reference.com/players/M/MixoJo00/fantasy/',\n",
    "            'https://www.pro-football-reference.com/players/G/GresJe00/fantasy/','https://www.pro-football-reference.com/players/E/EifeTy00/fantasy/',\n",
    "            'https://www.pro-football-reference.com/players/K/KrofTy00/fantasy/','https://www.pro-football-reference.com/players/U/UzomC.00/fantasy/',\n",
    "            'https://www.pro-football-reference.com/players/S/SampDr00/fantasy/','https://www.pro-football-reference.com/players/H/HursHa00/fantasy/']"
   ]
  },
  {
   "cell_type": "markdown",
   "id": "3f943770-09fb-41f6-ba9f-66144dc55539",
   "metadata": {},
   "source": [
    "I would say that this code cell above is the starting point for my project, as this is the cell where I am gathering all of the data from the website https://www.pro-football-reference.com. These links all link to the Cincinatti Bengals players fantasy stats. The code that I am running gathers the data from the table, while the code below this markdown cell tidys up the table, as it comes into jupyter notebook pretty messy. The data is structured into a big table, listing a lot of very unnecessary stats that are not helpful to me in my analysis"
   ]
  },
  {
   "cell_type": "code",
   "execution_count": 6,
   "id": "5adb91ac-9363-4ec9-bace-e44736e2ff86",
   "metadata": {},
   "outputs": [],
   "source": [
    "def col_selection(df):\n",
    "    df_new = df.rename(columns={'Tm': 'Team', 'G': 'Games Played', 'Unnamed: 0': 'Year', 'FantPt': 'Fantasy Points'})\n",
    "    df_new = df_new[[\"Year\", \"Team\", \"Games Played\", \"Fantasy Points\"]]\n",
    "    df_new = df_new[df_new['Year'] > 2013]\n",
    "    df_new = df_new.reset_index(drop = True)\n",
    "    df_new['Year'] = df_new['Year'].astype(int)\n",
    "    return df_new"
   ]
  },
  {
   "cell_type": "markdown",
   "id": "bd2b3cea-532f-40ba-9186-5d1fdd8b3f31",
   "metadata": {},
   "source": [
    "The code above narrows down my table into the four main stats that I feel are most important to my analysis, those being the Year, Team, Games Played, and Fantasy Points. The lables that I was originally given from these tables were \"tm\" (Team), \"G\" (Games Played), \"Unnamed: 0\" (Year), \"FantPt\" (Fantasy Points). I changed them to the more readable versions as listed there."
   ]
  },
  {
   "cell_type": "code",
   "execution_count": 13,
   "id": "4ec20791-c575-4b63-9459-e62fa9db779a",
   "metadata": {},
   "outputs": [
    {
     "ename": "HTTPError",
     "evalue": "HTTP Error 429: Too Many Requests",
     "output_type": "error",
     "traceback": [
      "\u001b[1;31m---------------------------------------------------------------------------\u001b[0m",
      "\u001b[1;31mHTTPError\u001b[0m                                 Traceback (most recent call last)",
      "Cell \u001b[1;32mIn[13], line 4\u001b[0m\n\u001b[0;32m      1\u001b[0m dfsBen \u001b[38;5;241m=\u001b[39m []\n\u001b[0;32m      3\u001b[0m \u001b[38;5;28;01mfor\u001b[39;00m i \u001b[38;5;129;01min\u001b[39;00m url_listBen:\n\u001b[1;32m----> 4\u001b[0m     response_df \u001b[38;5;241m=\u001b[39m \u001b[43mpd\u001b[49m\u001b[38;5;241;43m.\u001b[39;49m\u001b[43mread_html\u001b[49m\u001b[43m(\u001b[49m\u001b[38;5;28;43mstr\u001b[39;49m\u001b[43m(\u001b[49m\u001b[43mi\u001b[49m\u001b[43m)\u001b[49m\u001b[43m,\u001b[49m\u001b[43m \u001b[49m\u001b[43mheader\u001b[49m\u001b[43m \u001b[49m\u001b[38;5;241;43m=\u001b[39;49m\u001b[43m \u001b[49m\u001b[43m[\u001b[49m\u001b[38;5;241;43m1\u001b[39;49m\u001b[43m]\u001b[49m\u001b[43m,\u001b[49m\u001b[43m \u001b[49m\u001b[43mskiprows\u001b[49m\u001b[43m \u001b[49m\u001b[38;5;241;43m=\u001b[39;49m\u001b[43m \u001b[49m\u001b[38;5;241;43m1\u001b[39;49m\u001b[43m)\u001b[49m[\u001b[38;5;241m0\u001b[39m]\n\u001b[0;32m      5\u001b[0m     response_cleaned \u001b[38;5;241m=\u001b[39m col_selection(response_df)\n\u001b[0;32m      6\u001b[0m     response_cleaned[\u001b[38;5;124m'\u001b[39m\u001b[38;5;124mPlayer\u001b[39m\u001b[38;5;124m'\u001b[39m] \u001b[38;5;241m=\u001b[39m \u001b[38;5;28;01mNone\u001b[39;00m\n",
      "File \u001b[1;32m~\\anaconda3\\envs\\data-fa24\\Lib\\site-packages\\pandas\\io\\html.py:1240\u001b[0m, in \u001b[0;36mread_html\u001b[1;34m(io, match, flavor, header, index_col, skiprows, attrs, parse_dates, thousands, encoding, decimal, converters, na_values, keep_default_na, displayed_only, extract_links, dtype_backend, storage_options)\u001b[0m\n\u001b[0;32m   1224\u001b[0m \u001b[38;5;28;01mif\u001b[39;00m \u001b[38;5;28misinstance\u001b[39m(io, \u001b[38;5;28mstr\u001b[39m) \u001b[38;5;129;01mand\u001b[39;00m \u001b[38;5;129;01mnot\u001b[39;00m \u001b[38;5;28many\u001b[39m(\n\u001b[0;32m   1225\u001b[0m     [\n\u001b[0;32m   1226\u001b[0m         is_file_like(io),\n\u001b[1;32m   (...)\u001b[0m\n\u001b[0;32m   1230\u001b[0m     ]\n\u001b[0;32m   1231\u001b[0m ):\n\u001b[0;32m   1232\u001b[0m     warnings\u001b[38;5;241m.\u001b[39mwarn(\n\u001b[0;32m   1233\u001b[0m         \u001b[38;5;124m\"\u001b[39m\u001b[38;5;124mPassing literal html to \u001b[39m\u001b[38;5;124m'\u001b[39m\u001b[38;5;124mread_html\u001b[39m\u001b[38;5;124m'\u001b[39m\u001b[38;5;124m is deprecated and \u001b[39m\u001b[38;5;124m\"\u001b[39m\n\u001b[0;32m   1234\u001b[0m         \u001b[38;5;124m\"\u001b[39m\u001b[38;5;124mwill be removed in a future version. To read from a \u001b[39m\u001b[38;5;124m\"\u001b[39m\n\u001b[1;32m   (...)\u001b[0m\n\u001b[0;32m   1237\u001b[0m         stacklevel\u001b[38;5;241m=\u001b[39mfind_stack_level(),\n\u001b[0;32m   1238\u001b[0m     )\n\u001b[1;32m-> 1240\u001b[0m \u001b[38;5;28;01mreturn\u001b[39;00m \u001b[43m_parse\u001b[49m\u001b[43m(\u001b[49m\n\u001b[0;32m   1241\u001b[0m \u001b[43m    \u001b[49m\u001b[43mflavor\u001b[49m\u001b[38;5;241;43m=\u001b[39;49m\u001b[43mflavor\u001b[49m\u001b[43m,\u001b[49m\n\u001b[0;32m   1242\u001b[0m \u001b[43m    \u001b[49m\u001b[43mio\u001b[49m\u001b[38;5;241;43m=\u001b[39;49m\u001b[43mio\u001b[49m\u001b[43m,\u001b[49m\n\u001b[0;32m   1243\u001b[0m \u001b[43m    \u001b[49m\u001b[43mmatch\u001b[49m\u001b[38;5;241;43m=\u001b[39;49m\u001b[43mmatch\u001b[49m\u001b[43m,\u001b[49m\n\u001b[0;32m   1244\u001b[0m \u001b[43m    \u001b[49m\u001b[43mheader\u001b[49m\u001b[38;5;241;43m=\u001b[39;49m\u001b[43mheader\u001b[49m\u001b[43m,\u001b[49m\n\u001b[0;32m   1245\u001b[0m \u001b[43m    \u001b[49m\u001b[43mindex_col\u001b[49m\u001b[38;5;241;43m=\u001b[39;49m\u001b[43mindex_col\u001b[49m\u001b[43m,\u001b[49m\n\u001b[0;32m   1246\u001b[0m \u001b[43m    \u001b[49m\u001b[43mskiprows\u001b[49m\u001b[38;5;241;43m=\u001b[39;49m\u001b[43mskiprows\u001b[49m\u001b[43m,\u001b[49m\n\u001b[0;32m   1247\u001b[0m \u001b[43m    \u001b[49m\u001b[43mparse_dates\u001b[49m\u001b[38;5;241;43m=\u001b[39;49m\u001b[43mparse_dates\u001b[49m\u001b[43m,\u001b[49m\n\u001b[0;32m   1248\u001b[0m \u001b[43m    \u001b[49m\u001b[43mthousands\u001b[49m\u001b[38;5;241;43m=\u001b[39;49m\u001b[43mthousands\u001b[49m\u001b[43m,\u001b[49m\n\u001b[0;32m   1249\u001b[0m \u001b[43m    \u001b[49m\u001b[43mattrs\u001b[49m\u001b[38;5;241;43m=\u001b[39;49m\u001b[43mattrs\u001b[49m\u001b[43m,\u001b[49m\n\u001b[0;32m   1250\u001b[0m \u001b[43m    \u001b[49m\u001b[43mencoding\u001b[49m\u001b[38;5;241;43m=\u001b[39;49m\u001b[43mencoding\u001b[49m\u001b[43m,\u001b[49m\n\u001b[0;32m   1251\u001b[0m \u001b[43m    \u001b[49m\u001b[43mdecimal\u001b[49m\u001b[38;5;241;43m=\u001b[39;49m\u001b[43mdecimal\u001b[49m\u001b[43m,\u001b[49m\n\u001b[0;32m   1252\u001b[0m \u001b[43m    \u001b[49m\u001b[43mconverters\u001b[49m\u001b[38;5;241;43m=\u001b[39;49m\u001b[43mconverters\u001b[49m\u001b[43m,\u001b[49m\n\u001b[0;32m   1253\u001b[0m \u001b[43m    \u001b[49m\u001b[43mna_values\u001b[49m\u001b[38;5;241;43m=\u001b[39;49m\u001b[43mna_values\u001b[49m\u001b[43m,\u001b[49m\n\u001b[0;32m   1254\u001b[0m \u001b[43m    \u001b[49m\u001b[43mkeep_default_na\u001b[49m\u001b[38;5;241;43m=\u001b[39;49m\u001b[43mkeep_default_na\u001b[49m\u001b[43m,\u001b[49m\n\u001b[0;32m   1255\u001b[0m \u001b[43m    \u001b[49m\u001b[43mdisplayed_only\u001b[49m\u001b[38;5;241;43m=\u001b[39;49m\u001b[43mdisplayed_only\u001b[49m\u001b[43m,\u001b[49m\n\u001b[0;32m   1256\u001b[0m \u001b[43m    \u001b[49m\u001b[43mextract_links\u001b[49m\u001b[38;5;241;43m=\u001b[39;49m\u001b[43mextract_links\u001b[49m\u001b[43m,\u001b[49m\n\u001b[0;32m   1257\u001b[0m \u001b[43m    \u001b[49m\u001b[43mdtype_backend\u001b[49m\u001b[38;5;241;43m=\u001b[39;49m\u001b[43mdtype_backend\u001b[49m\u001b[43m,\u001b[49m\n\u001b[0;32m   1258\u001b[0m \u001b[43m    \u001b[49m\u001b[43mstorage_options\u001b[49m\u001b[38;5;241;43m=\u001b[39;49m\u001b[43mstorage_options\u001b[49m\u001b[43m,\u001b[49m\n\u001b[0;32m   1259\u001b[0m \u001b[43m\u001b[49m\u001b[43m)\u001b[49m\n",
      "File \u001b[1;32m~\\anaconda3\\envs\\data-fa24\\Lib\\site-packages\\pandas\\io\\html.py:983\u001b[0m, in \u001b[0;36m_parse\u001b[1;34m(flavor, io, match, attrs, encoding, displayed_only, extract_links, storage_options, **kwargs)\u001b[0m\n\u001b[0;32m    972\u001b[0m p \u001b[38;5;241m=\u001b[39m parser(\n\u001b[0;32m    973\u001b[0m     io,\n\u001b[0;32m    974\u001b[0m     compiled_match,\n\u001b[1;32m   (...)\u001b[0m\n\u001b[0;32m    979\u001b[0m     storage_options,\n\u001b[0;32m    980\u001b[0m )\n\u001b[0;32m    982\u001b[0m \u001b[38;5;28;01mtry\u001b[39;00m:\n\u001b[1;32m--> 983\u001b[0m     tables \u001b[38;5;241m=\u001b[39m \u001b[43mp\u001b[49m\u001b[38;5;241;43m.\u001b[39;49m\u001b[43mparse_tables\u001b[49m\u001b[43m(\u001b[49m\u001b[43m)\u001b[49m\n\u001b[0;32m    984\u001b[0m \u001b[38;5;28;01mexcept\u001b[39;00m \u001b[38;5;167;01mValueError\u001b[39;00m \u001b[38;5;28;01mas\u001b[39;00m caught:\n\u001b[0;32m    985\u001b[0m     \u001b[38;5;66;03m# if `io` is an io-like object, check if it's seekable\u001b[39;00m\n\u001b[0;32m    986\u001b[0m     \u001b[38;5;66;03m# and try to rewind it before trying the next parser\u001b[39;00m\n\u001b[0;32m    987\u001b[0m     \u001b[38;5;28;01mif\u001b[39;00m \u001b[38;5;28mhasattr\u001b[39m(io, \u001b[38;5;124m\"\u001b[39m\u001b[38;5;124mseekable\u001b[39m\u001b[38;5;124m\"\u001b[39m) \u001b[38;5;129;01mand\u001b[39;00m io\u001b[38;5;241m.\u001b[39mseekable():\n",
      "File \u001b[1;32m~\\anaconda3\\envs\\data-fa24\\Lib\\site-packages\\pandas\\io\\html.py:249\u001b[0m, in \u001b[0;36m_HtmlFrameParser.parse_tables\u001b[1;34m(self)\u001b[0m\n\u001b[0;32m    241\u001b[0m \u001b[38;5;28;01mdef\u001b[39;00m \u001b[38;5;21mparse_tables\u001b[39m(\u001b[38;5;28mself\u001b[39m):\n\u001b[0;32m    242\u001b[0m \u001b[38;5;250m    \u001b[39m\u001b[38;5;124;03m\"\"\"\u001b[39;00m\n\u001b[0;32m    243\u001b[0m \u001b[38;5;124;03m    Parse and return all tables from the DOM.\u001b[39;00m\n\u001b[0;32m    244\u001b[0m \n\u001b[1;32m   (...)\u001b[0m\n\u001b[0;32m    247\u001b[0m \u001b[38;5;124;03m    list of parsed (header, body, footer) tuples from tables.\u001b[39;00m\n\u001b[0;32m    248\u001b[0m \u001b[38;5;124;03m    \"\"\"\u001b[39;00m\n\u001b[1;32m--> 249\u001b[0m     tables \u001b[38;5;241m=\u001b[39m \u001b[38;5;28mself\u001b[39m\u001b[38;5;241m.\u001b[39m_parse_tables(\u001b[38;5;28;43mself\u001b[39;49m\u001b[38;5;241;43m.\u001b[39;49m\u001b[43m_build_doc\u001b[49m\u001b[43m(\u001b[49m\u001b[43m)\u001b[49m, \u001b[38;5;28mself\u001b[39m\u001b[38;5;241m.\u001b[39mmatch, \u001b[38;5;28mself\u001b[39m\u001b[38;5;241m.\u001b[39mattrs)\n\u001b[0;32m    250\u001b[0m     \u001b[38;5;28;01mreturn\u001b[39;00m (\u001b[38;5;28mself\u001b[39m\u001b[38;5;241m.\u001b[39m_parse_thead_tbody_tfoot(table) \u001b[38;5;28;01mfor\u001b[39;00m table \u001b[38;5;129;01min\u001b[39;00m tables)\n",
      "File \u001b[1;32m~\\anaconda3\\envs\\data-fa24\\Lib\\site-packages\\pandas\\io\\html.py:806\u001b[0m, in \u001b[0;36m_LxmlFrameParser._build_doc\u001b[1;34m(self)\u001b[0m\n\u001b[0;32m    804\u001b[0m             \u001b[38;5;28;01mpass\u001b[39;00m\n\u001b[0;32m    805\u001b[0m     \u001b[38;5;28;01melse\u001b[39;00m:\n\u001b[1;32m--> 806\u001b[0m         \u001b[38;5;28;01mraise\u001b[39;00m e\n\u001b[0;32m    807\u001b[0m \u001b[38;5;28;01melse\u001b[39;00m:\n\u001b[0;32m    808\u001b[0m     \u001b[38;5;28;01mif\u001b[39;00m \u001b[38;5;129;01mnot\u001b[39;00m \u001b[38;5;28mhasattr\u001b[39m(r, \u001b[38;5;124m\"\u001b[39m\u001b[38;5;124mtext_content\u001b[39m\u001b[38;5;124m\"\u001b[39m):\n",
      "File \u001b[1;32m~\\anaconda3\\envs\\data-fa24\\Lib\\site-packages\\pandas\\io\\html.py:785\u001b[0m, in \u001b[0;36m_LxmlFrameParser._build_doc\u001b[1;34m(self)\u001b[0m\n\u001b[0;32m    783\u001b[0m \u001b[38;5;28;01mtry\u001b[39;00m:\n\u001b[0;32m    784\u001b[0m     \u001b[38;5;28;01mif\u001b[39;00m is_url(\u001b[38;5;28mself\u001b[39m\u001b[38;5;241m.\u001b[39mio):\n\u001b[1;32m--> 785\u001b[0m         \u001b[38;5;28;01mwith\u001b[39;00m \u001b[43mget_handle\u001b[49m\u001b[43m(\u001b[49m\n\u001b[0;32m    786\u001b[0m \u001b[43m            \u001b[49m\u001b[38;5;28;43mself\u001b[39;49m\u001b[38;5;241;43m.\u001b[39;49m\u001b[43mio\u001b[49m\u001b[43m,\u001b[49m\u001b[43m \u001b[49m\u001b[38;5;124;43m\"\u001b[39;49m\u001b[38;5;124;43mr\u001b[39;49m\u001b[38;5;124;43m\"\u001b[39;49m\u001b[43m,\u001b[49m\u001b[43m \u001b[49m\u001b[43mstorage_options\u001b[49m\u001b[38;5;241;43m=\u001b[39;49m\u001b[38;5;28;43mself\u001b[39;49m\u001b[38;5;241;43m.\u001b[39;49m\u001b[43mstorage_options\u001b[49m\n\u001b[0;32m    787\u001b[0m \u001b[43m        \u001b[49m\u001b[43m)\u001b[49m \u001b[38;5;28;01mas\u001b[39;00m f:\n\u001b[0;32m    788\u001b[0m             r \u001b[38;5;241m=\u001b[39m parse(f\u001b[38;5;241m.\u001b[39mhandle, parser\u001b[38;5;241m=\u001b[39mparser)\n\u001b[0;32m    789\u001b[0m     \u001b[38;5;28;01melse\u001b[39;00m:\n\u001b[0;32m    790\u001b[0m         \u001b[38;5;66;03m# try to parse the input in the simplest way\u001b[39;00m\n",
      "File \u001b[1;32m~\\anaconda3\\envs\\data-fa24\\Lib\\site-packages\\pandas\\io\\common.py:728\u001b[0m, in \u001b[0;36mget_handle\u001b[1;34m(path_or_buf, mode, encoding, compression, memory_map, is_text, errors, storage_options)\u001b[0m\n\u001b[0;32m    725\u001b[0m     codecs\u001b[38;5;241m.\u001b[39mlookup_error(errors)\n\u001b[0;32m    727\u001b[0m \u001b[38;5;66;03m# open URLs\u001b[39;00m\n\u001b[1;32m--> 728\u001b[0m ioargs \u001b[38;5;241m=\u001b[39m \u001b[43m_get_filepath_or_buffer\u001b[49m\u001b[43m(\u001b[49m\n\u001b[0;32m    729\u001b[0m \u001b[43m    \u001b[49m\u001b[43mpath_or_buf\u001b[49m\u001b[43m,\u001b[49m\n\u001b[0;32m    730\u001b[0m \u001b[43m    \u001b[49m\u001b[43mencoding\u001b[49m\u001b[38;5;241;43m=\u001b[39;49m\u001b[43mencoding\u001b[49m\u001b[43m,\u001b[49m\n\u001b[0;32m    731\u001b[0m \u001b[43m    \u001b[49m\u001b[43mcompression\u001b[49m\u001b[38;5;241;43m=\u001b[39;49m\u001b[43mcompression\u001b[49m\u001b[43m,\u001b[49m\n\u001b[0;32m    732\u001b[0m \u001b[43m    \u001b[49m\u001b[43mmode\u001b[49m\u001b[38;5;241;43m=\u001b[39;49m\u001b[43mmode\u001b[49m\u001b[43m,\u001b[49m\n\u001b[0;32m    733\u001b[0m \u001b[43m    \u001b[49m\u001b[43mstorage_options\u001b[49m\u001b[38;5;241;43m=\u001b[39;49m\u001b[43mstorage_options\u001b[49m\u001b[43m,\u001b[49m\n\u001b[0;32m    734\u001b[0m \u001b[43m\u001b[49m\u001b[43m)\u001b[49m\n\u001b[0;32m    736\u001b[0m handle \u001b[38;5;241m=\u001b[39m ioargs\u001b[38;5;241m.\u001b[39mfilepath_or_buffer\n\u001b[0;32m    737\u001b[0m handles: \u001b[38;5;28mlist\u001b[39m[BaseBuffer]\n",
      "File \u001b[1;32m~\\anaconda3\\envs\\data-fa24\\Lib\\site-packages\\pandas\\io\\common.py:384\u001b[0m, in \u001b[0;36m_get_filepath_or_buffer\u001b[1;34m(filepath_or_buffer, encoding, compression, mode, storage_options)\u001b[0m\n\u001b[0;32m    382\u001b[0m \u001b[38;5;66;03m# assuming storage_options is to be interpreted as headers\u001b[39;00m\n\u001b[0;32m    383\u001b[0m req_info \u001b[38;5;241m=\u001b[39m urllib\u001b[38;5;241m.\u001b[39mrequest\u001b[38;5;241m.\u001b[39mRequest(filepath_or_buffer, headers\u001b[38;5;241m=\u001b[39mstorage_options)\n\u001b[1;32m--> 384\u001b[0m \u001b[38;5;28;01mwith\u001b[39;00m \u001b[43murlopen\u001b[49m\u001b[43m(\u001b[49m\u001b[43mreq_info\u001b[49m\u001b[43m)\u001b[49m \u001b[38;5;28;01mas\u001b[39;00m req:\n\u001b[0;32m    385\u001b[0m     content_encoding \u001b[38;5;241m=\u001b[39m req\u001b[38;5;241m.\u001b[39mheaders\u001b[38;5;241m.\u001b[39mget(\u001b[38;5;124m\"\u001b[39m\u001b[38;5;124mContent-Encoding\u001b[39m\u001b[38;5;124m\"\u001b[39m, \u001b[38;5;28;01mNone\u001b[39;00m)\n\u001b[0;32m    386\u001b[0m     \u001b[38;5;28;01mif\u001b[39;00m content_encoding \u001b[38;5;241m==\u001b[39m \u001b[38;5;124m\"\u001b[39m\u001b[38;5;124mgzip\u001b[39m\u001b[38;5;124m\"\u001b[39m:\n\u001b[0;32m    387\u001b[0m         \u001b[38;5;66;03m# Override compression based on Content-Encoding header\u001b[39;00m\n",
      "File \u001b[1;32m~\\anaconda3\\envs\\data-fa24\\Lib\\site-packages\\pandas\\io\\common.py:289\u001b[0m, in \u001b[0;36murlopen\u001b[1;34m(*args, **kwargs)\u001b[0m\n\u001b[0;32m    283\u001b[0m \u001b[38;5;250m\u001b[39m\u001b[38;5;124;03m\"\"\"\u001b[39;00m\n\u001b[0;32m    284\u001b[0m \u001b[38;5;124;03mLazy-import wrapper for stdlib urlopen, as that imports a big chunk of\u001b[39;00m\n\u001b[0;32m    285\u001b[0m \u001b[38;5;124;03mthe stdlib.\u001b[39;00m\n\u001b[0;32m    286\u001b[0m \u001b[38;5;124;03m\"\"\"\u001b[39;00m\n\u001b[0;32m    287\u001b[0m \u001b[38;5;28;01mimport\u001b[39;00m \u001b[38;5;21;01murllib\u001b[39;00m\u001b[38;5;21;01m.\u001b[39;00m\u001b[38;5;21;01mrequest\u001b[39;00m\n\u001b[1;32m--> 289\u001b[0m \u001b[38;5;28;01mreturn\u001b[39;00m \u001b[43murllib\u001b[49m\u001b[38;5;241;43m.\u001b[39;49m\u001b[43mrequest\u001b[49m\u001b[38;5;241;43m.\u001b[39;49m\u001b[43murlopen\u001b[49m\u001b[43m(\u001b[49m\u001b[38;5;241;43m*\u001b[39;49m\u001b[43margs\u001b[49m\u001b[43m,\u001b[49m\u001b[43m \u001b[49m\u001b[38;5;241;43m*\u001b[39;49m\u001b[38;5;241;43m*\u001b[39;49m\u001b[43mkwargs\u001b[49m\u001b[43m)\u001b[49m\n",
      "File \u001b[1;32m~\\anaconda3\\envs\\data-fa24\\Lib\\urllib\\request.py:215\u001b[0m, in \u001b[0;36murlopen\u001b[1;34m(url, data, timeout, cafile, capath, cadefault, context)\u001b[0m\n\u001b[0;32m    213\u001b[0m \u001b[38;5;28;01melse\u001b[39;00m:\n\u001b[0;32m    214\u001b[0m     opener \u001b[38;5;241m=\u001b[39m _opener\n\u001b[1;32m--> 215\u001b[0m \u001b[38;5;28;01mreturn\u001b[39;00m \u001b[43mopener\u001b[49m\u001b[38;5;241;43m.\u001b[39;49m\u001b[43mopen\u001b[49m\u001b[43m(\u001b[49m\u001b[43murl\u001b[49m\u001b[43m,\u001b[49m\u001b[43m \u001b[49m\u001b[43mdata\u001b[49m\u001b[43m,\u001b[49m\u001b[43m \u001b[49m\u001b[43mtimeout\u001b[49m\u001b[43m)\u001b[49m\n",
      "File \u001b[1;32m~\\anaconda3\\envs\\data-fa24\\Lib\\urllib\\request.py:521\u001b[0m, in \u001b[0;36mOpenerDirector.open\u001b[1;34m(self, fullurl, data, timeout)\u001b[0m\n\u001b[0;32m    519\u001b[0m \u001b[38;5;28;01mfor\u001b[39;00m processor \u001b[38;5;129;01min\u001b[39;00m \u001b[38;5;28mself\u001b[39m\u001b[38;5;241m.\u001b[39mprocess_response\u001b[38;5;241m.\u001b[39mget(protocol, []):\n\u001b[0;32m    520\u001b[0m     meth \u001b[38;5;241m=\u001b[39m \u001b[38;5;28mgetattr\u001b[39m(processor, meth_name)\n\u001b[1;32m--> 521\u001b[0m     response \u001b[38;5;241m=\u001b[39m \u001b[43mmeth\u001b[49m\u001b[43m(\u001b[49m\u001b[43mreq\u001b[49m\u001b[43m,\u001b[49m\u001b[43m \u001b[49m\u001b[43mresponse\u001b[49m\u001b[43m)\u001b[49m\n\u001b[0;32m    523\u001b[0m \u001b[38;5;28;01mreturn\u001b[39;00m response\n",
      "File \u001b[1;32m~\\anaconda3\\envs\\data-fa24\\Lib\\urllib\\request.py:630\u001b[0m, in \u001b[0;36mHTTPErrorProcessor.http_response\u001b[1;34m(self, request, response)\u001b[0m\n\u001b[0;32m    627\u001b[0m \u001b[38;5;66;03m# According to RFC 2616, \"2xx\" code indicates that the client's\u001b[39;00m\n\u001b[0;32m    628\u001b[0m \u001b[38;5;66;03m# request was successfully received, understood, and accepted.\u001b[39;00m\n\u001b[0;32m    629\u001b[0m \u001b[38;5;28;01mif\u001b[39;00m \u001b[38;5;129;01mnot\u001b[39;00m (\u001b[38;5;241m200\u001b[39m \u001b[38;5;241m<\u001b[39m\u001b[38;5;241m=\u001b[39m code \u001b[38;5;241m<\u001b[39m \u001b[38;5;241m300\u001b[39m):\n\u001b[1;32m--> 630\u001b[0m     response \u001b[38;5;241m=\u001b[39m \u001b[38;5;28;43mself\u001b[39;49m\u001b[38;5;241;43m.\u001b[39;49m\u001b[43mparent\u001b[49m\u001b[38;5;241;43m.\u001b[39;49m\u001b[43merror\u001b[49m\u001b[43m(\u001b[49m\n\u001b[0;32m    631\u001b[0m \u001b[43m        \u001b[49m\u001b[38;5;124;43m'\u001b[39;49m\u001b[38;5;124;43mhttp\u001b[39;49m\u001b[38;5;124;43m'\u001b[39;49m\u001b[43m,\u001b[49m\u001b[43m \u001b[49m\u001b[43mrequest\u001b[49m\u001b[43m,\u001b[49m\u001b[43m \u001b[49m\u001b[43mresponse\u001b[49m\u001b[43m,\u001b[49m\u001b[43m \u001b[49m\u001b[43mcode\u001b[49m\u001b[43m,\u001b[49m\u001b[43m \u001b[49m\u001b[43mmsg\u001b[49m\u001b[43m,\u001b[49m\u001b[43m \u001b[49m\u001b[43mhdrs\u001b[49m\u001b[43m)\u001b[49m\n\u001b[0;32m    633\u001b[0m \u001b[38;5;28;01mreturn\u001b[39;00m response\n",
      "File \u001b[1;32m~\\anaconda3\\envs\\data-fa24\\Lib\\urllib\\request.py:559\u001b[0m, in \u001b[0;36mOpenerDirector.error\u001b[1;34m(self, proto, *args)\u001b[0m\n\u001b[0;32m    557\u001b[0m \u001b[38;5;28;01mif\u001b[39;00m http_err:\n\u001b[0;32m    558\u001b[0m     args \u001b[38;5;241m=\u001b[39m (\u001b[38;5;28mdict\u001b[39m, \u001b[38;5;124m'\u001b[39m\u001b[38;5;124mdefault\u001b[39m\u001b[38;5;124m'\u001b[39m, \u001b[38;5;124m'\u001b[39m\u001b[38;5;124mhttp_error_default\u001b[39m\u001b[38;5;124m'\u001b[39m) \u001b[38;5;241m+\u001b[39m orig_args\n\u001b[1;32m--> 559\u001b[0m     \u001b[38;5;28;01mreturn\u001b[39;00m \u001b[38;5;28;43mself\u001b[39;49m\u001b[38;5;241;43m.\u001b[39;49m\u001b[43m_call_chain\u001b[49m\u001b[43m(\u001b[49m\u001b[38;5;241;43m*\u001b[39;49m\u001b[43margs\u001b[49m\u001b[43m)\u001b[49m\n",
      "File \u001b[1;32m~\\anaconda3\\envs\\data-fa24\\Lib\\urllib\\request.py:492\u001b[0m, in \u001b[0;36mOpenerDirector._call_chain\u001b[1;34m(self, chain, kind, meth_name, *args)\u001b[0m\n\u001b[0;32m    490\u001b[0m \u001b[38;5;28;01mfor\u001b[39;00m handler \u001b[38;5;129;01min\u001b[39;00m handlers:\n\u001b[0;32m    491\u001b[0m     func \u001b[38;5;241m=\u001b[39m \u001b[38;5;28mgetattr\u001b[39m(handler, meth_name)\n\u001b[1;32m--> 492\u001b[0m     result \u001b[38;5;241m=\u001b[39m \u001b[43mfunc\u001b[49m\u001b[43m(\u001b[49m\u001b[38;5;241;43m*\u001b[39;49m\u001b[43margs\u001b[49m\u001b[43m)\u001b[49m\n\u001b[0;32m    493\u001b[0m     \u001b[38;5;28;01mif\u001b[39;00m result \u001b[38;5;129;01mis\u001b[39;00m \u001b[38;5;129;01mnot\u001b[39;00m \u001b[38;5;28;01mNone\u001b[39;00m:\n\u001b[0;32m    494\u001b[0m         \u001b[38;5;28;01mreturn\u001b[39;00m result\n",
      "File \u001b[1;32m~\\anaconda3\\envs\\data-fa24\\Lib\\urllib\\request.py:639\u001b[0m, in \u001b[0;36mHTTPDefaultErrorHandler.http_error_default\u001b[1;34m(self, req, fp, code, msg, hdrs)\u001b[0m\n\u001b[0;32m    638\u001b[0m \u001b[38;5;28;01mdef\u001b[39;00m \u001b[38;5;21mhttp_error_default\u001b[39m(\u001b[38;5;28mself\u001b[39m, req, fp, code, msg, hdrs):\n\u001b[1;32m--> 639\u001b[0m     \u001b[38;5;28;01mraise\u001b[39;00m HTTPError(req\u001b[38;5;241m.\u001b[39mfull_url, code, msg, hdrs, fp)\n",
      "\u001b[1;31mHTTPError\u001b[0m: HTTP Error 429: Too Many Requests"
     ]
    }
   ],
   "source": [
    "dfsBen = []\n",
    "\n",
    "for i in url_listBen:\n",
    "    response_df = pd.read_html(str(i), header = [1], skiprows = 1)[0]\n",
    "    response_cleaned = col_selection(response_df)\n",
    "    response_cleaned['Player'] = None\n",
    "    response_cleaned['Player'] = str(i)[49:-9]   \n",
    "    dfsBen.append(response_cleaned)"
   ]
  },
  {
   "cell_type": "markdown",
   "id": "5c8e34b7-e888-42e9-b567-96f79a75c847",
   "metadata": {},
   "source": [
    "The code above gets rid of the extra table headers, while also turning dfsBen into a usable variable for the rest of the project. I use dfsBen to go back into the list of urls that I made to get the dataframes for all of the Cincinatti Bengals players"
   ]
  },
  {
   "cell_type": "code",
   "execution_count": null,
   "id": "21ccc230-9483-4d91-8eb6-b580c5678003",
   "metadata": {},
   "outputs": [],
   "source": [
    "dalton = dfsBen[0].iloc[0:6]\n",
    "burrow = dfsBen[1].iloc[0:4]"
   ]
  },
  {
   "cell_type": "code",
   "execution_count": null,
   "id": "223ba60a-5eac-405e-a9d9-1e178b33dd4d",
   "metadata": {},
   "outputs": [],
   "source": [
    "bqb_df = pd.concat([dalton, burrow])\n",
    "bqb_df['Player'] = ''\n",
    "bqb_df = bqb_df.reset_index(drop = True)"
   ]
  },
  {
   "cell_type": "code",
   "execution_count": null,
   "id": "1b8231da-e094-4e5e-9bc1-4eb201024914",
   "metadata": {},
   "outputs": [],
   "source": [
    "bqb_df = col_selection(bqb_df)\n",
    "bqb_df.loc[:6, 'Player'] = 'Andy Dalton'\n",
    "bqb_df.loc[6:, 'Player'] = 'Joe Burrow'\n",
    "bqb_df"
   ]
  },
  {
   "cell_type": "code",
   "execution_count": null,
   "id": "764bad17-d76c-4645-9bf1-259c2898c256",
   "metadata": {},
   "outputs": [],
   "source": [
    "years = [2014, 2015, 2016, 2017, 2018, 2019, 2020, 2021, 2022, 2023]\n",
    "fig1, ax1 = plt.subplots()\n",
    "\n",
    "for player in bqb_df['Player'].unique(): \n",
    "    player_data = bqb_df[bqb_df['Player'] == player] \n",
    "    ax1.scatter(player_data['Year'], player_data['Fantasy Points'], label=player)\n",
    "\n",
    "plt.xticks(years)\n",
    "plt.legend(title = 'Players')\n",
    "ax1.set_xlabel('Year')\n",
    "ax1.set_ylabel('Fantasy points')\n",
    "ax1.set_title('Fantasy Points by Cincinnati Bengals Quarterbacks from 2014 - 2023')\n",
    "\n",
    "plt.show()"
   ]
  },
  {
   "cell_type": "code",
   "execution_count": null,
   "id": "80153df0-afc7-4360-b519-1949a2bc0b8c",
   "metadata": {},
   "outputs": [],
   "source": [
    "green = dfsBen[2].iloc[0:4]\n",
    "boyd = dfsBen[3].iloc[2:5]\n",
    "chase = dfsBen[4].iloc[0:3]"
   ]
  },
  {
   "cell_type": "code",
   "execution_count": null,
   "id": "c6080a61-ff76-45d1-b5b7-3c3c980677c2",
   "metadata": {},
   "outputs": [],
   "source": [
    "bwr_df = pd.concat([green, boyd, chase])\n",
    "bwr_df['Player'] = ''\n",
    "bwr_df = bwr_df.reset_index(drop = True)"
   ]
  },
  {
   "cell_type": "code",
   "execution_count": null,
   "id": "8cef8cd3-2796-41f5-a6d2-2d5a217dec34",
   "metadata": {},
   "outputs": [],
   "source": [
    "bwr_df = col_selection(bwr_df)\n",
    "bwr_df.loc[:4, 'Player'] = 'AJ Green'\n",
    "bwr_df.loc[4:5, 'Player'] = 'Tyler Boyd'\n",
    "bwr_df.loc[6:, 'Player'] = 'Jamarr Chase'\n",
    "bwr_df"
   ]
  },
  {
   "cell_type": "code",
   "execution_count": null,
   "id": "7639b634-6e68-4d6b-8ddf-2037ebff6475",
   "metadata": {},
   "outputs": [],
   "source": [
    "years = [2014, 2015, 2016, 2017, 2018, 2019, 2020, 2021, 2022, 2023]\n",
    "fig1, ax1 = plt.subplots()\n",
    "\n",
    "for player in bwr_df['Player'].unique(): \n",
    "    player_data = bwr_df[bwr_df['Player'] == player] \n",
    "    ax1.scatter(player_data['Year'], player_data['Fantasy Points'], label=player)\n",
    "\n",
    "plt.xticks(years)\n",
    "plt.legend(title = 'Players')\n",
    "ax1.set_xlabel('Year')\n",
    "ax1.set_ylabel('Fantasy points')\n",
    "ax1.set_title('Fantasy Points by Cincinnati Bengals Wide Recievers from 2014 - 2023')\n",
    "\n",
    "plt.show()"
   ]
  },
  {
   "cell_type": "code",
   "execution_count": null,
   "id": "04a46545-d589-488b-9087-d4de637bbe51",
   "metadata": {},
   "outputs": [],
   "source": [
    "bernard = dfsBen[5].iloc[0:1]\n",
    "hill = dfsBen[6].iloc[1:3]\n",
    "mixon = dfsBen[7].iloc[0:7]"
   ]
  },
  {
   "cell_type": "code",
   "execution_count": null,
   "id": "f2488458-83d1-4a4f-a934-c32ecb5b5470",
   "metadata": {},
   "outputs": [],
   "source": [
    "brb_df = pd.concat([bernard, hill, mixon])\n",
    "brb_df['Player'] = ''\n",
    "brb_df = brb_df.reset_index(drop = True)"
   ]
  },
  {
   "cell_type": "code",
   "execution_count": null,
   "id": "85921b4c-5c8b-487e-aaaa-75943d464dda",
   "metadata": {},
   "outputs": [],
   "source": [
    "brb_df = col_selection(brb_df)\n",
    "brb_df.loc[:0, 'Player'] = 'Giovani Bernard'\n",
    "brb_df.loc[1:2, 'Player'] = 'Jeremy Hill'\n",
    "brb_df.loc[3:, 'Player'] = 'Joe Mixon'\n",
    "brb_df"
   ]
  },
  {
   "cell_type": "code",
   "execution_count": null,
   "id": "f843f32b-1900-4907-a12f-f167d0051e6a",
   "metadata": {},
   "outputs": [],
   "source": [
    "years = [2014, 2015, 2016, 2017, 2018, 2019, 2020, 2021, 2022, 2023]\n",
    "fig1, ax1 = plt.subplots()\n",
    "\n",
    "for player in brb_df['Player'].unique(): \n",
    "    player_data = brb_df[brb_df['Player'] == player] \n",
    "    ax1.scatter(player_data['Year'], player_data['Fantasy Points'], label=player)\n",
    "\n",
    "plt.xticks(years)\n",
    "plt.legend(title = 'Players')\n",
    "ax1.set_xlabel('Year')\n",
    "ax1.set_ylabel('Fantasy points')\n",
    "ax1.set_title('Fantasy Points by Cincinnati Bengals Running Backs from 2014 - 2023')\n",
    "\n",
    "plt.show()"
   ]
  },
  {
   "cell_type": "code",
   "execution_count": null,
   "id": "c5f40d20-f77b-4452-9147-c33053820066",
   "metadata": {},
   "outputs": [],
   "source": [
    "gresham = dfsBen[8].iloc[0:1]\n",
    "eifert = dfsBen[9].iloc[1:2]\n",
    "kroft = dfsBen[10].iloc[1:3]\n",
    "uzomah = dfsBen[11].iloc[3:5]\n",
    "sample = dfsBen[12].iloc[1:5]\n",
    "hurst = dfsBen[13].iloc[4:5]\n",
    "hurst = hurst[hurst['Year'] == 2022]"
   ]
  },
  {
   "cell_type": "code",
   "execution_count": null,
   "id": "9b8feb72-0b7a-4897-95a2-c3c278b1e728",
   "metadata": {},
   "outputs": [],
   "source": [
    "bte_df = pd.concat([gresham, eifert, kroft, uzomah, sample, hurst])\n",
    "bte_df['Player'] = ''\n",
    "bte_df = bte_df.reset_index(drop = True)"
   ]
  },
  {
   "cell_type": "code",
   "execution_count": null,
   "id": "439ade85-8a5d-42da-8bf9-5af9d4979162",
   "metadata": {},
   "outputs": [],
   "source": [
    "hurst['Player'] = 'Hayden Hurst'\n",
    "\n",
    "bte_df = col_selection(bte_df)\n",
    "bte_df = pd.concat([bte_df, hurst], ignore_index=True)\n",
    "\n",
    "bte_df.loc[0, 'Player'] = 'Jermaine Gresham'\n",
    "bte_df.loc[1, 'Player'] = 'Tyler Eifert'\n",
    "bte_df.loc[2:3, 'Player'] = 'Tyler Kroft'\n",
    "bte_df.loc[4:5, 'Player'] = 'CJ Uzomah'\n",
    "bte_df.loc[(bte_df['Year'] == 2020) | (bte_df['Year'] == 2021), 'Player'] = 'Drew Sample'\n",
    "bte_df.loc[(bte_df['Year'] == 2023), 'Player'] = 'Drew Sample'\n",
    "bte_df = bte_df[~((bte_df['Player'] == 'Drew Sample') & (bte_df['Year'] == 2022))]\n",
    "bte_df = bte_df.dropna(subset=['Year', 'Player'])\n",
    "bte_df = bte_df.sort_values(by='Year').reset_index(drop=True)\n",
    "\n",
    "bte_df"
   ]
  },
  {
   "cell_type": "markdown",
   "id": "4a1e4a80-d33b-4560-a8ee-09f9bd164d2e",
   "metadata": {},
   "source": [
    "I used ChatGPT to help assist me in the coding to insert Hayden Hursts Fantasy data within Drew Samples data"
   ]
  },
  {
   "cell_type": "code",
   "execution_count": null,
   "id": "88b9f526-0dd1-478c-b35f-5bdac22bde1e",
   "metadata": {},
   "outputs": [],
   "source": [
    "years = [2014, 2015, 2016, 2017, 2018, 2019, 2020, 2021, 2022, 2023]\n",
    "fig1, ax1 = plt.subplots()\n",
    "\n",
    "for player in bte_df['Player'].unique(): \n",
    "    player_data = bte_df[bte_df['Player'] == player] \n",
    "    ax1.scatter(player_data['Year'], player_data['Fantasy Points'], label=player)\n",
    "\n",
    "plt.xticks(years)\n",
    "plt.legend(title = 'Players')\n",
    "ax1.set_xlabel('Year')\n",
    "ax1.set_ylabel('Fantasy points')\n",
    "ax1.set_title('Fantasy Points by Cincinnati Tight Ends from 2014 - 2023')\n",
    "\n",
    "plt.show()"
   ]
  },
  {
   "cell_type": "code",
   "execution_count": null,
   "id": "951a308b-08c3-4f10-9e77-b5c9a28f50c8",
   "metadata": {},
   "outputs": [],
   "source": [
    "years = [2014, 2015, 2016, 2017, 2018, 2019, 2020, 2021, 2022, 2023]\n",
    "fig1, ax1 = plt.subplots(2, 2, figsize=(15, 10))\n",
    "\n",
    "for player in bqb_df['Player'].unique(): \n",
    "    player_data = bqb_df[bqb_df['Player'] == player] \n",
    "    ax1[0,0].scatter(player_data['Year'], player_data['Fantasy Points'], label=player)\n",
    "ax1[0,0].set_xlabel('Year')\n",
    "ax1[0,0].set_ylabel('Fantasy Points')\n",
    "ax1[0,0].set_title('Fantasy Points: QBs (2014-2023)')\n",
    "ax1[0,0].set_xticks(years) \n",
    "ax1[0,0].legend(title='Players')\n",
    "\n",
    "for player in bwr_df['Player'].unique(): \n",
    "    player_data = bwr_df[bwr_df['Player'] == player] \n",
    "    ax1[0,1].scatter(player_data['Year'], player_data['Fantasy Points'], label=player)\n",
    "ax1[0,1].set_xlabel('Year')\n",
    "ax1[0,1].set_ylabel('Fantasy Points')\n",
    "ax1[0,1].set_title('Fantasy Points: WRs (2014-2023)')\n",
    "ax1[0,1].set_xticks(years)\n",
    "ax1[0,1].legend(title='Players')\n",
    "\n",
    "for player in brb_df['Player'].unique(): \n",
    "    player_data = brb_df[brb_df['Player'] == player] \n",
    "    ax1[1,0].scatter(player_data['Year'], player_data['Fantasy Points'], label=player)\n",
    "ax1[1,0].set_xlabel('Year')\n",
    "ax1[1,0].set_ylabel('Fantasy Points')\n",
    "ax1[1,0].set_title('Fantasy Points: RBs (2014-2023)')\n",
    "ax1[1,0].set_xticks(years)\n",
    "ax1[1,0].legend(title='Players')\n",
    "\n",
    "for player in bte_df['Player'].unique(): \n",
    "    player_data = bte_df[bte_df['Player'] == player] \n",
    "    ax1[1,1].scatter(player_data['Year'], player_data['Fantasy Points'], label=player)\n",
    "ax1[1,1].set_xlabel('Year')\n",
    "ax1[1,1].set_ylabel('Fantasy Points')\n",
    "ax1[1,1].set_title('Fantasy Points: TEs (2014-2023)')\n",
    "ax1[1,1].set_xticks(years)\n",
    "ax1[1,1].legend(title='Players')\n",
    "\n",
    "fig1.suptitle('Fantasy Points by Position for Cincinnati Bengals (2014-2023)', fontsize=16)\n",
    "plt.show()"
   ]
  },
  {
   "cell_type": "markdown",
   "id": "4755518d-a306-4d33-b047-b3c9eeefc8cf",
   "metadata": {},
   "source": [
    "The graph above is the final graph that combines all of the position groups for the Cincinatti Bengals. The data that all these graphs show are the values from the different positions. This helps to visualize how all of the position groups have scored since 2014 to 2023. For example, the TE group has some of the least scoring in fantasy over the last 10 years, while the QB group shows the highest scoring over the last 10 years. This shows how the Cincinatti Bengals use TEs a lot less in their offensive schemes than some other teams do. This is very interesting to see because this will vary team by team, depending on the type of offensive scheme a team runs. It will be very interesing to see once I have the graphs for all of the other AFC north teams how the different position groups perform on a team by team basis. What I have learned from just examining the Cincinatti position groups is that the amount of fantasy points majorly differs based on the way that the offense runs their scheme. This graph shows that the bengals are more of a Wide Reciever - pass heavy team since the wide reciever and quarterback position have the most fantasy points on the team. The limitations when comparing the four AFC north teams is going to be there is going to be a variance in the way that these teams sceme, for example for the Baltimore Ravens, the TE group may have a lot more fantasy points because their offensive scheme is more tight end heavy. This is going to make comparing direct position groups more innacurate."
   ]
  },
  {
   "cell_type": "code",
   "execution_count": null,
   "id": "24b099b5-ff5d-4c54-bf64-c2f2b53ef5da",
   "metadata": {},
   "outputs": [],
   "source": [
    "bqb_fantasy_points = bqb_df['Fantasy Points'].sum()\n",
    "bwr_fantasy_points = bwr_df['Fantasy Points'].sum()\n",
    "bte_fantasy_points = bte_df['Fantasy Points'].sum()\n",
    "brb_fantasy_points = brb_df['Fantasy Points'].sum()\n",
    "\n",
    "cin_tot_fantasy_points = bqb_fantasy_points + bwr_fantasy_points + bte_fantasy_points + brb_fantasy_points"
   ]
  },
  {
   "cell_type": "code",
   "execution_count": null,
   "id": "a5aa40ef-ff5c-4a30-82f0-af8854120b47",
   "metadata": {},
   "outputs": [],
   "source": [
    "cin_tot_fantasy_points"
   ]
  },
  {
   "cell_type": "markdown",
   "id": "7c383910-9339-4745-8e98-db366366a8e9",
   "metadata": {},
   "source": [
    "The number above is the total amount of points scored by the Cincinatti Bengals position groups over the last 10 years. The conclusion for my analysis is going to consist of four of these numbers, comparing all of the different AFC north teams together. The comparison is going to be very easy, as I will just look at which team scored the most overall, solving part of my analysis, which was taking a look at which team scored the most in the last 10 years. The deeper part of my analysis is going to come as I want to compare the position groups for the different teams to see which team has had a more consisten position group for fantasy. Overall, the take away for this project is going to be which team has produced the best position groups for fantasy over the last 10 years."
   ]
  },
  {
   "cell_type": "code",
   "execution_count": null,
   "id": "9f972f50-6f94-4651-bd14-25017eae0480",
   "metadata": {},
   "outputs": [],
   "source": [
    "url_listRav = ['https://www.pro-football-reference.com/players/F/FlacJo00/fantasy/','https://www.pro-football-reference.com/players/J/JackLa00/fantasy/',\n",
    "              'https://www.pro-football-reference.com/players/S/SmitSt01/fantasy/','https://www.pro-football-reference.com/players/A/AikeKa00/fantasy/',\n",
    "              'https://www.pro-football-reference.com/players/W/WallMi00/fantasy/','https://www.pro-football-reference.com/players/B/BrowJo02/fantasy/',\n",
    "              'https://www.pro-football-reference.com/players/B/BrowMa04/fantasy/','https://www.pro-football-reference.com/players/D/DuveDe00/fantasy/',\n",
    "              'https://www.pro-football-reference.com/players/F/FlowZa00/fantasy/','https://www.pro-football-reference.com/players/F/ForsJu00/fantasy/',\n",
    "              'https://www.pro-football-reference.com/players/J/JuszKy00/fantasy/','https://www.pro-football-reference.com/players/C/CollAl00/fantasy/',\n",
    "              'https://www.pro-football-reference.com/players/I/IngrMa01/fantasy/','https://www.pro-football-reference.com/players/F/FreeDe00/fantasy/',\n",
    "              'https://www.pro-football-reference.com/players/D/DobbJK00/fantasy/','https://www.pro-football-reference.com/players/E/EdwaGu00/fantasy/',\n",
    "              'https://www.pro-football-reference.com/players/D/DaniOw00/fantasy/','https://www.pro-football-reference.com/players/G/GillCr00/fantasy/',\n",
    "              'https://www.pro-football-reference.com/players/P/PittDe00/fantasy/','https://www.pro-football-reference.com/players/B/BoylNi00/fantasy/',\n",
    "              'https://www.pro-football-reference.com/players/A/AndrMa00/fantasy/']"
   ]
  },
  {
   "cell_type": "code",
   "execution_count": null,
   "id": "02ac6a5c-20b5-4d3a-995a-9282e87041cc",
   "metadata": {},
   "outputs": [],
   "source": [
    "dfsRav = []\n",
    "\n",
    "for i in url_listRav:\n",
    "    response_df = pd.read_html(str(i), header = [1], skiprows = 1)[0]\n",
    "    response_cleaned = col_selection(response_df)\n",
    "    response_cleaned['Player'] = None\n",
    "    response_cleaned['Player'] = [str(i)[49:-9]]*len(response_cleaned.index)\n",
    "    dfsRav.append(response_cleaned)"
   ]
  },
  {
   "cell_type": "code",
   "execution_count": null,
   "id": "780edb2c-cd6a-45ef-88c5-bbf31a45215f",
   "metadata": {},
   "outputs": [],
   "source": [
    "flacco = dfsRav[0].iloc[0:4]\n",
    "jackson = dfsRav[1].iloc[0:6]"
   ]
  },
  {
   "cell_type": "code",
   "execution_count": null,
   "id": "6f4f1286-1850-45ed-a9ce-ffac2b0207fd",
   "metadata": {},
   "outputs": [],
   "source": [
    "rqb_df = pd.concat([flacco, jackson])\n",
    "rqb_df['Player'] = ''\n",
    "rqb_df = rqb_df.reset_index(drop = True)\n",
    "rqb_df = col_selection(rqb_df)\n",
    "rqb_df.loc[:4, 'Player'] = 'Joe Flacco'\n",
    "rqb_df.loc[4:, 'Player'] = 'Lamar Jackson'\n",
    "rqb_df"
   ]
  },
  {
   "cell_type": "code",
   "execution_count": null,
   "id": "b8bbdec4-c7ca-4797-9cd5-cbd8d6b4b6b0",
   "metadata": {},
   "outputs": [],
   "source": [
    "years = [2014, 2015, 2016, 2017, 2018, 2019, 2020, 2021, 2022, 2023]\n",
    "fig2, ax2 = plt.subplots()\n",
    "\n",
    "for player in rqb_df['Player'].unique(): \n",
    "    player_data = rqb_df[rqb_df['Player'] == player] \n",
    "    ax2.scatter(player_data['Year'], player_data['Fantasy Points'], label=player)\n",
    "\n",
    "plt.xticks(years)\n",
    "plt.legend(title = 'Players')\n",
    "ax2.set_xlabel('Year')\n",
    "ax2.set_ylabel('Fantasy points')\n",
    "ax2.set_title('Fantasy Points by Baltimore Ravens Quarterbacks from 2014 - 2023')\n",
    "\n",
    "plt.show()"
   ]
  },
  {
   "cell_type": "code",
   "execution_count": null,
   "id": "d7610959-39ca-4056-a9c0-3238bb9317b0",
   "metadata": {},
   "outputs": [],
   "source": [
    "smith = dfsRav[2].iloc[0]\n",
    "aiken = dfsRav[3].iloc[1]\n",
    "wallace = dfsRav[4].iloc[2:4]\n",
    "jbrown = dfsRav[5].iloc[4:5]\n",
    "boykin = dfsRav[6].iloc[0]\n",
    "dfsRav[6]"
   ]
  },
  {
   "cell_type": "code",
   "execution_count": null,
   "id": "de09374a-f859-461c-ac67-1739063b8147",
   "metadata": {},
   "outputs": [],
   "source": []
  }
 ],
 "metadata": {
  "kernelspec": {
   "display_name": "Python 3 (ipykernel)",
   "language": "python",
   "name": "python3"
  },
  "language_info": {
   "codemirror_mode": {
    "name": "ipython",
    "version": 3
   },
   "file_extension": ".py",
   "mimetype": "text/x-python",
   "name": "python",
   "nbconvert_exporter": "python",
   "pygments_lexer": "ipython3",
   "version": "3.12.4"
  }
 },
 "nbformat": 4,
 "nbformat_minor": 5
}
