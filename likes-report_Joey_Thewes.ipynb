{
 "cells": [
  {
   "cell_type": "markdown",
   "id": "16020a49-5e15-4cf1-8c2c-86ddde315256",
   "metadata": {},
   "source": [
    "Joey Thewes - Instagram Likes Posts Data\n",
    "    \n",
    "1) The source of the data is from posts that I liked throughout how long I have had instagram.\n",
    "    \n",
    "2) This data was created to provide a visual representation for the account names of the posts that I like on instagram, as well as to show the timestamp I liked it at. This data can serve the purpose of showing me who's accounts I liked posts on, and later in the projects the data can show me how many times I have liked a certain accounts post\n",
    "    \n",
    "3) This data can be reliable to help show me the accounts that I have liked.\n",
    "    \n",
    "4) The base data before I find out how many times I have liked certain accounts posts is very broad, and the timestamp column is not very helpful as I am not too sure on what the numbers that it provides represent.\n",
    "    "
   ]
  },
  {
   "cell_type": "code",
   "execution_count": 1,
   "id": "876e2fae-fc1f-46cb-83a5-81c2d44bf998",
   "metadata": {},
   "outputs": [],
   "source": [
    "import json\n",
    "import pandas as pd"
   ]
  },
  {
   "cell_type": "code",
   "execution_count": 2,
   "id": "90ebf723-f9a7-46e9-b4b4-4ccc5246f3eb",
   "metadata": {},
   "outputs": [],
   "source": [
    "path = r\"C:\\Users\\Joey\\data-EMAT-fa24\\liked_posts.json\"\n",
    "with open(path) as j:\n",
    "    likes = json.load(j)"
   ]
  },
  {
   "cell_type": "code",
   "execution_count": 3,
   "id": "2bedb682-a6eb-4944-8a34-2acacaa02818",
   "metadata": {},
   "outputs": [
    {
     "data": {
      "text/plain": [
       "dict_keys(['likes_media_likes'])"
      ]
     },
     "execution_count": 3,
     "metadata": {},
     "output_type": "execute_result"
    }
   ],
   "source": [
    "likes.keys()"
   ]
  },
  {
   "cell_type": "code",
   "execution_count": 4,
   "id": "09510694-0b47-45ff-89f0-6f7935373283",
   "metadata": {},
   "outputs": [
    {
     "data": {
      "text/html": [
       "<div>\n",
       "<style scoped>\n",
       "    .dataframe tbody tr th:only-of-type {\n",
       "        vertical-align: middle;\n",
       "    }\n",
       "\n",
       "    .dataframe tbody tr th {\n",
       "        vertical-align: top;\n",
       "    }\n",
       "\n",
       "    .dataframe thead th {\n",
       "        text-align: right;\n",
       "    }\n",
       "</style>\n",
       "<table border=\"1\" class=\"dataframe\">\n",
       "  <thead>\n",
       "    <tr style=\"text-align: right;\">\n",
       "      <th></th>\n",
       "      <th>title</th>\n",
       "      <th>string_list_data</th>\n",
       "    </tr>\n",
       "  </thead>\n",
       "  <tbody>\n",
       "    <tr>\n",
       "      <th>0</th>\n",
       "      <td>churbumgirl</td>\n",
       "      <td>[{'href': 'https://www.instagram.com/p/C_BsG6S...</td>\n",
       "    </tr>\n",
       "    <tr>\n",
       "      <th>1</th>\n",
       "      <td>churbumgirl</td>\n",
       "      <td>[{'href': 'https://www.instagram.com/p/C_GUBCc...</td>\n",
       "    </tr>\n",
       "    <tr>\n",
       "      <th>2</th>\n",
       "      <td>bengals</td>\n",
       "      <td>[{'href': 'https://www.instagram.com/p/C_GUywm...</td>\n",
       "    </tr>\n",
       "    <tr>\n",
       "      <th>3</th>\n",
       "      <td>isabella.gambone</td>\n",
       "      <td>[{'href': 'https://www.instagram.com/p/C_Jw26u...</td>\n",
       "    </tr>\n",
       "    <tr>\n",
       "      <th>4</th>\n",
       "      <td>masonsteele.yourgirl</td>\n",
       "      <td>[{'href': 'https://www.instagram.com/p/C_HXdxZ...</td>\n",
       "    </tr>\n",
       "  </tbody>\n",
       "</table>\n",
       "</div>"
      ],
      "text/plain": [
       "                  title                                   string_list_data\n",
       "0           churbumgirl  [{'href': 'https://www.instagram.com/p/C_BsG6S...\n",
       "1           churbumgirl  [{'href': 'https://www.instagram.com/p/C_GUBCc...\n",
       "2               bengals  [{'href': 'https://www.instagram.com/p/C_GUywm...\n",
       "3      isabella.gambone  [{'href': 'https://www.instagram.com/p/C_Jw26u...\n",
       "4  masonsteele.yourgirl  [{'href': 'https://www.instagram.com/p/C_HXdxZ..."
      ]
     },
     "execution_count": 4,
     "metadata": {},
     "output_type": "execute_result"
    }
   ],
   "source": [
    "likes_df = pd.DataFrame(likes['likes_media_likes'])\n",
    "likes_df.head()"
   ]
  },
  {
   "cell_type": "code",
   "execution_count": 5,
   "id": "31b1e53b-7ccc-48fa-9f4d-e6b5efdeeca9",
   "metadata": {},
   "outputs": [],
   "source": [
    "likes_df_tidy = likes_df.drop(columns = ['string_list_data'])"
   ]
  },
  {
   "cell_type": "code",
   "execution_count": 6,
   "id": "0b81879c-2e0c-4fee-ad3d-a6af087fe070",
   "metadata": {},
   "outputs": [],
   "source": [
    "#likes_df_tidy"
   ]
  },
  {
   "cell_type": "code",
   "execution_count": 7,
   "id": "f8d97c67-d805-43fc-a647-014feab2978b",
   "metadata": {},
   "outputs": [
    {
     "data": {
      "text/plain": [
       "Index(['title', 'string_list_data'], dtype='object')"
      ]
     },
     "execution_count": 7,
     "metadata": {},
     "output_type": "execute_result"
    }
   ],
   "source": [
    "likes_df.keys()"
   ]
  },
  {
   "cell_type": "code",
   "execution_count": 8,
   "id": "6d3cf0b1-62eb-4e8a-beaf-4475cc6b1262",
   "metadata": {},
   "outputs": [
    {
     "data": {
      "text/plain": [
       "[{'href': 'https://www.instagram.com/p/C_BsG6SPPyO/',\n",
       "  'value': 'ð\\x9f\\x91\\x8d',\n",
       "  'timestamp': 1724769953}]"
      ]
     },
     "execution_count": 8,
     "metadata": {},
     "output_type": "execute_result"
    }
   ],
   "source": [
    "likes_df['string_list_data'].iloc[0]"
   ]
  },
  {
   "cell_type": "code",
   "execution_count": 9,
   "id": "551f4b0b-9a1e-4ca4-b233-d85805bba131",
   "metadata": {},
   "outputs": [
    {
     "data": {
      "text/plain": [
       "list"
      ]
     },
     "execution_count": 9,
     "metadata": {},
     "output_type": "execute_result"
    }
   ],
   "source": [
    "type(likes_df['string_list_data'].iloc[0])"
   ]
  },
  {
   "cell_type": "code",
   "execution_count": 10,
   "id": "f8749222-5b60-47b9-8e22-f0a2230e053e",
   "metadata": {},
   "outputs": [
    {
     "data": {
      "text/plain": [
       "1"
      ]
     },
     "execution_count": 10,
     "metadata": {},
     "output_type": "execute_result"
    }
   ],
   "source": [
    "len(likes_df['string_list_data'].iloc[0])"
   ]
  },
  {
   "cell_type": "code",
   "execution_count": 11,
   "id": "0a9954fd-fbd2-43be-bb4f-f2584dc099f1",
   "metadata": {},
   "outputs": [
    {
     "data": {
      "text/plain": [
       "{'href': 'https://www.instagram.com/p/C_BsG6SPPyO/',\n",
       " 'value': 'ð\\x9f\\x91\\x8d',\n",
       " 'timestamp': 1724769953}"
      ]
     },
     "execution_count": 11,
     "metadata": {},
     "output_type": "execute_result"
    }
   ],
   "source": [
    "likes_df['string_list_data'].iloc[0][0]"
   ]
  },
  {
   "cell_type": "code",
   "execution_count": 12,
   "id": "b7ced6dc-c148-46f9-8ac0-37fde805f7de",
   "metadata": {},
   "outputs": [
    {
     "data": {
      "text/plain": [
       "dict"
      ]
     },
     "execution_count": 12,
     "metadata": {},
     "output_type": "execute_result"
    }
   ],
   "source": [
    "type(likes_df['string_list_data'].iloc[0][0])"
   ]
  },
  {
   "cell_type": "code",
   "execution_count": 13,
   "id": "73f2d092-f98a-4d9c-84bc-4d065c07e3e4",
   "metadata": {},
   "outputs": [
    {
     "data": {
      "text/plain": [
       "1724769953"
      ]
     },
     "execution_count": 13,
     "metadata": {},
     "output_type": "execute_result"
    }
   ],
   "source": [
    "likes_df['string_list_data'].iloc[0][0]['timestamp']"
   ]
  },
  {
   "cell_type": "code",
   "execution_count": null,
   "id": "2b6ac0c5-2021-4c5f-bdbd-1845b2df6d83",
   "metadata": {},
   "outputs": [],
   "source": [
    "[x for x in likes_df['string_list_data']]"
   ]
  },
  {
   "cell_type": "code",
   "execution_count": null,
   "id": "60d084e0-ffde-41e2-b0cf-0e573ac71dad",
   "metadata": {},
   "outputs": [],
   "source": [
    "[x[0] for x in likes_df['string_list_data']]"
   ]
  },
  {
   "cell_type": "code",
   "execution_count": null,
   "id": "522547cb-dba2-455d-9d5c-60833ed6fa40",
   "metadata": {},
   "outputs": [],
   "source": [
    "[x[0]['timestamp'] for x in likes_df['string_list_data']]"
   ]
  },
  {
   "cell_type": "code",
   "execution_count": 17,
   "id": "dde7d251-e987-4107-854e-016238ea4556",
   "metadata": {},
   "outputs": [],
   "source": [
    "likes_df_tidy['timestamp'] = [+x[0]['timestamp'] for x in likes_df['string_list_data']]"
   ]
  },
  {
   "cell_type": "code",
   "execution_count": 18,
   "id": "6a93ee91-2d82-4c58-91d4-1bf34a289d68",
   "metadata": {},
   "outputs": [
    {
     "data": {
      "text/html": [
       "<div>\n",
       "<style scoped>\n",
       "    .dataframe tbody tr th:only-of-type {\n",
       "        vertical-align: middle;\n",
       "    }\n",
       "\n",
       "    .dataframe tbody tr th {\n",
       "        vertical-align: top;\n",
       "    }\n",
       "\n",
       "    .dataframe thead th {\n",
       "        text-align: right;\n",
       "    }\n",
       "</style>\n",
       "<table border=\"1\" class=\"dataframe\">\n",
       "  <thead>\n",
       "    <tr style=\"text-align: right;\">\n",
       "      <th></th>\n",
       "      <th>title</th>\n",
       "      <th>timestamp</th>\n",
       "    </tr>\n",
       "  </thead>\n",
       "  <tbody>\n",
       "    <tr>\n",
       "      <th>0</th>\n",
       "      <td>churbumgirl</td>\n",
       "      <td>1724769953</td>\n",
       "    </tr>\n",
       "    <tr>\n",
       "      <th>1</th>\n",
       "      <td>churbumgirl</td>\n",
       "      <td>1724734514</td>\n",
       "    </tr>\n",
       "    <tr>\n",
       "      <th>2</th>\n",
       "      <td>bengals</td>\n",
       "      <td>1724734510</td>\n",
       "    </tr>\n",
       "    <tr>\n",
       "      <th>3</th>\n",
       "      <td>isabella.gambone</td>\n",
       "      <td>1724734461</td>\n",
       "    </tr>\n",
       "    <tr>\n",
       "      <th>4</th>\n",
       "      <td>masonsteele.yourgirl</td>\n",
       "      <td>1724712118</td>\n",
       "    </tr>\n",
       "    <tr>\n",
       "      <th>5</th>\n",
       "      <td>yash.jagtap__</td>\n",
       "      <td>1724712093</td>\n",
       "    </tr>\n",
       "    <tr>\n",
       "      <th>6</th>\n",
       "      <td>churbumgirl</td>\n",
       "      <td>1724686965</td>\n",
       "    </tr>\n",
       "    <tr>\n",
       "      <th>7</th>\n",
       "      <td>churbumgirl</td>\n",
       "      <td>1724686939</td>\n",
       "    </tr>\n",
       "    <tr>\n",
       "      <th>8</th>\n",
       "      <td>joeyb_9</td>\n",
       "      <td>1724557070</td>\n",
       "    </tr>\n",
       "    <tr>\n",
       "      <th>9</th>\n",
       "      <td>emily.jones.007</td>\n",
       "      <td>1724557050</td>\n",
       "    </tr>\n",
       "    <tr>\n",
       "      <th>10</th>\n",
       "      <td>nfl</td>\n",
       "      <td>1724422952</td>\n",
       "    </tr>\n",
       "  </tbody>\n",
       "</table>\n",
       "</div>"
      ],
      "text/plain": [
       "                   title   timestamp\n",
       "0            churbumgirl  1724769953\n",
       "1            churbumgirl  1724734514\n",
       "2                bengals  1724734510\n",
       "3       isabella.gambone  1724734461\n",
       "4   masonsteele.yourgirl  1724712118\n",
       "5          yash.jagtap__  1724712093\n",
       "6            churbumgirl  1724686965\n",
       "7            churbumgirl  1724686939\n",
       "8                joeyb_9  1724557070\n",
       "9        emily.jones.007  1724557050\n",
       "10                   nfl  1724422952"
      ]
     },
     "execution_count": 18,
     "metadata": {},
     "output_type": "execute_result"
    }
   ],
   "source": [
    "likes_df_tidy.head(11)"
   ]
  },
  {
   "cell_type": "markdown",
   "id": "3357c631-bd60-4b53-81c6-82f99218e2ad",
   "metadata": {},
   "source": [
    "Hypothesis:\n",
    "\n",
    "My hypothesis that could be tested with some more of my personal data is to try to see if I can find out more data about my followers, as well as expand the table to include more information that can also be more helpful.\n",
    "\n",
    "The theoretical elements of my hypothesis are whether or not I am able to add more columns to my table with more information\n",
    "\n",
    "The statistical elements of my hypothesis are the collection of the account data and the amount of whatever I am collecting"
   ]
  },
  {
   "cell_type": "code",
   "execution_count": 19,
   "id": "4725bb62-9ff8-4235-ab7d-aba044d522fe",
   "metadata": {},
   "outputs": [],
   "source": [
    "likes_df2 = pd.DataFrame(x[0] for x in likes_df['string_list_data'])"
   ]
  },
  {
   "cell_type": "code",
   "execution_count": 20,
   "id": "a1d9adcb-7fd8-4c67-8135-e713e84b59f5",
   "metadata": {},
   "outputs": [
    {
     "data": {
      "text/html": [
       "<div>\n",
       "<style scoped>\n",
       "    .dataframe tbody tr th:only-of-type {\n",
       "        vertical-align: middle;\n",
       "    }\n",
       "\n",
       "    .dataframe tbody tr th {\n",
       "        vertical-align: top;\n",
       "    }\n",
       "\n",
       "    .dataframe thead th {\n",
       "        text-align: right;\n",
       "    }\n",
       "</style>\n",
       "<table border=\"1\" class=\"dataframe\">\n",
       "  <thead>\n",
       "    <tr style=\"text-align: right;\">\n",
       "      <th></th>\n",
       "      <th>href</th>\n",
       "      <th>value</th>\n",
       "      <th>timestamp</th>\n",
       "    </tr>\n",
       "  </thead>\n",
       "  <tbody>\n",
       "    <tr>\n",
       "      <th>0</th>\n",
       "      <td>https://www.instagram.com/p/C_BsG6SPPyO/</td>\n",
       "      <td>ð</td>\n",
       "      <td>1724769953</td>\n",
       "    </tr>\n",
       "    <tr>\n",
       "      <th>1</th>\n",
       "      <td>https://www.instagram.com/p/C_GUBCcOeUq/</td>\n",
       "      <td>ð</td>\n",
       "      <td>1724734514</td>\n",
       "    </tr>\n",
       "    <tr>\n",
       "      <th>2</th>\n",
       "      <td>https://www.instagram.com/p/C_GUywmPppt/</td>\n",
       "      <td>ð</td>\n",
       "      <td>1724734510</td>\n",
       "    </tr>\n",
       "    <tr>\n",
       "      <th>3</th>\n",
       "      <td>https://www.instagram.com/p/C_Jw26uskSr/</td>\n",
       "      <td>ð</td>\n",
       "      <td>1724734461</td>\n",
       "    </tr>\n",
       "    <tr>\n",
       "      <th>4</th>\n",
       "      <td>https://www.instagram.com/p/C_HXdxZM0_X/</td>\n",
       "      <td>ð</td>\n",
       "      <td>1724712118</td>\n",
       "    </tr>\n",
       "    <tr>\n",
       "      <th>...</th>\n",
       "      <td>...</td>\n",
       "      <td>...</td>\n",
       "      <td>...</td>\n",
       "    </tr>\n",
       "    <tr>\n",
       "      <th>1433</th>\n",
       "      <td>https://www.instagram.com/p/BWoYcnWgSlZ/</td>\n",
       "      <td>ð</td>\n",
       "      <td>1500936364</td>\n",
       "    </tr>\n",
       "    <tr>\n",
       "      <th>1434</th>\n",
       "      <td>https://www.instagram.com/p/BWu2HF3AJGs/</td>\n",
       "      <td>ð</td>\n",
       "      <td>1500936333</td>\n",
       "    </tr>\n",
       "    <tr>\n",
       "      <th>1435</th>\n",
       "      <td>https://www.instagram.com/p/BWygmaEDZJy/</td>\n",
       "      <td>ð</td>\n",
       "      <td>1500936314</td>\n",
       "    </tr>\n",
       "    <tr>\n",
       "      <th>1436</th>\n",
       "      <td>https://www.instagram.com/p/BW5dGn7jHR-/</td>\n",
       "      <td>ð</td>\n",
       "      <td>1500936311</td>\n",
       "    </tr>\n",
       "    <tr>\n",
       "      <th>1437</th>\n",
       "      <td>https://www.instagram.com/p/BW6QksaAidl/</td>\n",
       "      <td>ð</td>\n",
       "      <td>1500936297</td>\n",
       "    </tr>\n",
       "  </tbody>\n",
       "</table>\n",
       "<p>1438 rows × 3 columns</p>\n",
       "</div>"
      ],
      "text/plain": [
       "                                          href value   timestamp\n",
       "0     https://www.instagram.com/p/C_BsG6SPPyO/  ð  1724769953\n",
       "1     https://www.instagram.com/p/C_GUBCcOeUq/  ð  1724734514\n",
       "2     https://www.instagram.com/p/C_GUywmPppt/  ð  1724734510\n",
       "3     https://www.instagram.com/p/C_Jw26uskSr/  ð  1724734461\n",
       "4     https://www.instagram.com/p/C_HXdxZM0_X/  ð  1724712118\n",
       "...                                        ...   ...         ...\n",
       "1433  https://www.instagram.com/p/BWoYcnWgSlZ/  ð  1500936364\n",
       "1434  https://www.instagram.com/p/BWu2HF3AJGs/  ð  1500936333\n",
       "1435  https://www.instagram.com/p/BWygmaEDZJy/  ð  1500936314\n",
       "1436  https://www.instagram.com/p/BW5dGn7jHR-/  ð  1500936311\n",
       "1437  https://www.instagram.com/p/BW6QksaAidl/  ð  1500936297\n",
       "\n",
       "[1438 rows x 3 columns]"
      ]
     },
     "execution_count": 20,
     "metadata": {},
     "output_type": "execute_result"
    }
   ],
   "source": [
    "likes_df2"
   ]
  },
  {
   "cell_type": "code",
   "execution_count": 21,
   "id": "754fb88c-4a3d-47df-ac51-bab48da22758",
   "metadata": {},
   "outputs": [
    {
     "data": {
      "text/html": [
       "<div>\n",
       "<style scoped>\n",
       "    .dataframe tbody tr th:only-of-type {\n",
       "        vertical-align: middle;\n",
       "    }\n",
       "\n",
       "    .dataframe tbody tr th {\n",
       "        vertical-align: top;\n",
       "    }\n",
       "\n",
       "    .dataframe thead th {\n",
       "        text-align: right;\n",
       "    }\n",
       "</style>\n",
       "<table border=\"1\" class=\"dataframe\">\n",
       "  <thead>\n",
       "    <tr style=\"text-align: right;\">\n",
       "      <th></th>\n",
       "      <th>href</th>\n",
       "      <th>value</th>\n",
       "      <th>timestamp</th>\n",
       "      <th>title</th>\n",
       "    </tr>\n",
       "  </thead>\n",
       "  <tbody>\n",
       "    <tr>\n",
       "      <th>0</th>\n",
       "      <td>https://www.instagram.com/p/C_BsG6SPPyO/</td>\n",
       "      <td>ð</td>\n",
       "      <td>1724769953</td>\n",
       "      <td>churbumgirl</td>\n",
       "    </tr>\n",
       "    <tr>\n",
       "      <th>1</th>\n",
       "      <td>https://www.instagram.com/p/C_GUBCcOeUq/</td>\n",
       "      <td>ð</td>\n",
       "      <td>1724734514</td>\n",
       "      <td>churbumgirl</td>\n",
       "    </tr>\n",
       "    <tr>\n",
       "      <th>2</th>\n",
       "      <td>https://www.instagram.com/p/C_GUywmPppt/</td>\n",
       "      <td>ð</td>\n",
       "      <td>1724734510</td>\n",
       "      <td>bengals</td>\n",
       "    </tr>\n",
       "    <tr>\n",
       "      <th>3</th>\n",
       "      <td>https://www.instagram.com/p/C_Jw26uskSr/</td>\n",
       "      <td>ð</td>\n",
       "      <td>1724734461</td>\n",
       "      <td>isabella.gambone</td>\n",
       "    </tr>\n",
       "    <tr>\n",
       "      <th>4</th>\n",
       "      <td>https://www.instagram.com/p/C_HXdxZM0_X/</td>\n",
       "      <td>ð</td>\n",
       "      <td>1724712118</td>\n",
       "      <td>masonsteele.yourgirl</td>\n",
       "    </tr>\n",
       "  </tbody>\n",
       "</table>\n",
       "</div>"
      ],
      "text/plain": [
       "                                       href value   timestamp  \\\n",
       "0  https://www.instagram.com/p/C_BsG6SPPyO/  ð  1724769953   \n",
       "1  https://www.instagram.com/p/C_GUBCcOeUq/  ð  1724734514   \n",
       "2  https://www.instagram.com/p/C_GUywmPppt/  ð  1724734510   \n",
       "3  https://www.instagram.com/p/C_Jw26uskSr/  ð  1724734461   \n",
       "4  https://www.instagram.com/p/C_HXdxZM0_X/  ð  1724712118   \n",
       "\n",
       "                  title  \n",
       "0           churbumgirl  \n",
       "1           churbumgirl  \n",
       "2               bengals  \n",
       "3      isabella.gambone  \n",
       "4  masonsteele.yourgirl  "
      ]
     },
     "execution_count": 21,
     "metadata": {},
     "output_type": "execute_result"
    }
   ],
   "source": [
    "likes_df2['title'] = likes_df['title']\n",
    "likes_df2.head()"
   ]
  },
  {
   "cell_type": "code",
   "execution_count": 22,
   "id": "fd870c09-19d6-4b79-b27c-ab18e6d3af88",
   "metadata": {
    "scrolled": true
   },
   "outputs": [
    {
     "data": {
      "text/html": [
       "<div>\n",
       "<style scoped>\n",
       "    .dataframe tbody tr th:only-of-type {\n",
       "        vertical-align: middle;\n",
       "    }\n",
       "\n",
       "    .dataframe tbody tr th {\n",
       "        vertical-align: top;\n",
       "    }\n",
       "\n",
       "    .dataframe thead th {\n",
       "        text-align: right;\n",
       "    }\n",
       "</style>\n",
       "<table border=\"1\" class=\"dataframe\">\n",
       "  <thead>\n",
       "    <tr style=\"text-align: right;\">\n",
       "      <th></th>\n",
       "      <th>href</th>\n",
       "      <th>value</th>\n",
       "      <th>timestamp</th>\n",
       "    </tr>\n",
       "    <tr>\n",
       "      <th>title</th>\n",
       "      <th></th>\n",
       "      <th></th>\n",
       "      <th></th>\n",
       "    </tr>\n",
       "  </thead>\n",
       "  <tbody>\n",
       "    <tr>\n",
       "      <th>bengals</th>\n",
       "      <td>164</td>\n",
       "      <td>164</td>\n",
       "      <td>164</td>\n",
       "    </tr>\n",
       "    <tr>\n",
       "      <th>nfl</th>\n",
       "      <td>76</td>\n",
       "      <td>76</td>\n",
       "      <td>76</td>\n",
       "    </tr>\n",
       "    <tr>\n",
       "      <th>ppppppppppqqqqqqqqpqqpq</th>\n",
       "      <td>58</td>\n",
       "      <td>58</td>\n",
       "      <td>58</td>\n",
       "    </tr>\n",
       "    <tr>\n",
       "      <th>indie_the_ween</th>\n",
       "      <td>35</td>\n",
       "      <td>35</td>\n",
       "      <td>35</td>\n",
       "    </tr>\n",
       "    <tr>\n",
       "      <th>dudeperfect</th>\n",
       "      <td>25</td>\n",
       "      <td>25</td>\n",
       "      <td>25</td>\n",
       "    </tr>\n",
       "    <tr>\n",
       "      <th>espn</th>\n",
       "      <td>21</td>\n",
       "      <td>21</td>\n",
       "      <td>21</td>\n",
       "    </tr>\n",
       "    <tr>\n",
       "      <th>jenna_cassidy_5</th>\n",
       "      <td>20</td>\n",
       "      <td>20</td>\n",
       "      <td>20</td>\n",
       "    </tr>\n",
       "    <tr>\n",
       "      <th>harryflorals</th>\n",
       "      <td>19</td>\n",
       "      <td>19</td>\n",
       "      <td>19</td>\n",
       "    </tr>\n",
       "    <tr>\n",
       "      <th>lilyan_ronske</th>\n",
       "      <td>18</td>\n",
       "      <td>18</td>\n",
       "      <td>18</td>\n",
       "    </tr>\n",
       "    <tr>\n",
       "      <th>keister__</th>\n",
       "      <td>17</td>\n",
       "      <td>17</td>\n",
       "      <td>17</td>\n",
       "    </tr>\n",
       "  </tbody>\n",
       "</table>\n",
       "</div>"
      ],
      "text/plain": [
       "                         href  value  timestamp\n",
       "title                                          \n",
       "bengals                   164    164        164\n",
       "nfl                        76     76         76\n",
       "ppppppppppqqqqqqqqpqqpq    58     58         58\n",
       "indie_the_ween             35     35         35\n",
       "dudeperfect                25     25         25\n",
       "espn                       21     21         21\n",
       "jenna_cassidy_5            20     20         20\n",
       "harryflorals               19     19         19\n",
       "lilyan_ronske              18     18         18\n",
       "keister__                  17     17         17"
      ]
     },
     "execution_count": 22,
     "metadata": {},
     "output_type": "execute_result"
    }
   ],
   "source": [
    "likes_df2.groupby('title').count().sort_values('timestamp', ascending = False).head(10)"
   ]
  },
  {
   "cell_type": "code",
   "execution_count": 23,
   "id": "f1422b61-2c29-4d5d-ac7a-f6b04a0da758",
   "metadata": {},
   "outputs": [
    {
     "data": {
      "text/html": [
       "<div>\n",
       "<style scoped>\n",
       "    .dataframe tbody tr th:only-of-type {\n",
       "        vertical-align: middle;\n",
       "    }\n",
       "\n",
       "    .dataframe tbody tr th {\n",
       "        vertical-align: top;\n",
       "    }\n",
       "\n",
       "    .dataframe thead th {\n",
       "        text-align: right;\n",
       "    }\n",
       "</style>\n",
       "<table border=\"1\" class=\"dataframe\">\n",
       "  <thead>\n",
       "    <tr style=\"text-align: right;\">\n",
       "      <th></th>\n",
       "      <th>timestamp</th>\n",
       "    </tr>\n",
       "    <tr>\n",
       "      <th>title</th>\n",
       "      <th></th>\n",
       "    </tr>\n",
       "  </thead>\n",
       "  <tbody>\n",
       "    <tr>\n",
       "      <th>bengals</th>\n",
       "      <td>164</td>\n",
       "    </tr>\n",
       "    <tr>\n",
       "      <th>nfl</th>\n",
       "      <td>76</td>\n",
       "    </tr>\n",
       "    <tr>\n",
       "      <th>ppppppppppqqqqqqqqpqqpq</th>\n",
       "      <td>58</td>\n",
       "    </tr>\n",
       "    <tr>\n",
       "      <th>indie_the_ween</th>\n",
       "      <td>35</td>\n",
       "    </tr>\n",
       "    <tr>\n",
       "      <th>dudeperfect</th>\n",
       "      <td>25</td>\n",
       "    </tr>\n",
       "    <tr>\n",
       "      <th>...</th>\n",
       "      <td>...</td>\n",
       "    </tr>\n",
       "    <tr>\n",
       "      <th>kentstatebands</th>\n",
       "      <td>1</td>\n",
       "    </tr>\n",
       "    <tr>\n",
       "      <th>kentstatechicks</th>\n",
       "      <td>1</td>\n",
       "    </tr>\n",
       "    <tr>\n",
       "      <th>kentstatedean</th>\n",
       "      <td>1</td>\n",
       "    </tr>\n",
       "    <tr>\n",
       "      <th>kentstathletics</th>\n",
       "      <td>1</td>\n",
       "    </tr>\n",
       "    <tr>\n",
       "      <th>beaglesdaily</th>\n",
       "      <td>1</td>\n",
       "    </tr>\n",
       "  </tbody>\n",
       "</table>\n",
       "<p>335 rows × 1 columns</p>\n",
       "</div>"
      ],
      "text/plain": [
       "                         timestamp\n",
       "title                             \n",
       "bengals                        164\n",
       "nfl                             76\n",
       "ppppppppppqqqqqqqqpqqpq         58\n",
       "indie_the_ween                  35\n",
       "dudeperfect                     25\n",
       "...                            ...\n",
       "kentstatebands                   1\n",
       "kentstatechicks                  1\n",
       "kentstatedean                    1\n",
       "kentstathletics                  1\n",
       "beaglesdaily                     1\n",
       "\n",
       "[335 rows x 1 columns]"
      ]
     },
     "execution_count": 23,
     "metadata": {},
     "output_type": "execute_result"
    }
   ],
   "source": [
    "likes_df_tidy.groupby('title').count().sort_values('timestamp', ascending = False)"
   ]
  },
  {
   "cell_type": "code",
   "execution_count": 24,
   "id": "d557f8ac-17a7-4e9e-849f-bf3f6eb8f207",
   "metadata": {},
   "outputs": [],
   "source": [
    "path = r\"C:\\Users\\Joey\\data-EMAT-fa24\\following.json\"\n",
    "with open(path) as c:\n",
    "    foll = json.load(c)"
   ]
  },
  {
   "cell_type": "code",
   "execution_count": 25,
   "id": "255d50c2-6adf-4bf4-9e3d-91a1847ef34a",
   "metadata": {},
   "outputs": [
    {
     "data": {
      "text/plain": [
       "dict_keys(['relationships_following'])"
      ]
     },
     "execution_count": 25,
     "metadata": {},
     "output_type": "execute_result"
    }
   ],
   "source": [
    "foll.keys()"
   ]
  },
  {
   "cell_type": "code",
   "execution_count": 26,
   "id": "96f46400-4376-4de5-aaca-d3e8bd08b240",
   "metadata": {},
   "outputs": [],
   "source": [
    "foll_df = pd.DataFrame(foll['relationships_following'])"
   ]
  },
  {
   "cell_type": "code",
   "execution_count": 27,
   "id": "4b962c9f-9451-4568-826f-39d3cc02cb69",
   "metadata": {},
   "outputs": [
    {
     "data": {
      "text/html": [
       "<div>\n",
       "<style scoped>\n",
       "    .dataframe tbody tr th:only-of-type {\n",
       "        vertical-align: middle;\n",
       "    }\n",
       "\n",
       "    .dataframe tbody tr th {\n",
       "        vertical-align: top;\n",
       "    }\n",
       "\n",
       "    .dataframe thead th {\n",
       "        text-align: right;\n",
       "    }\n",
       "</style>\n",
       "<table border=\"1\" class=\"dataframe\">\n",
       "  <thead>\n",
       "    <tr style=\"text-align: right;\">\n",
       "      <th></th>\n",
       "      <th>title</th>\n",
       "      <th>media_list_data</th>\n",
       "      <th>string_list_data</th>\n",
       "    </tr>\n",
       "  </thead>\n",
       "  <tbody>\n",
       "    <tr>\n",
       "      <th>0</th>\n",
       "      <td></td>\n",
       "      <td>[]</td>\n",
       "      <td>[{'href': 'https://www.instagram.com/yash.jagt...</td>\n",
       "    </tr>\n",
       "    <tr>\n",
       "      <th>1</th>\n",
       "      <td></td>\n",
       "      <td>[]</td>\n",
       "      <td>[{'href': 'https://www.instagram.com/kourt_leo...</td>\n",
       "    </tr>\n",
       "    <tr>\n",
       "      <th>2</th>\n",
       "      <td></td>\n",
       "      <td>[]</td>\n",
       "      <td>[{'href': 'https://www.instagram.com/a.nniewhi...</td>\n",
       "    </tr>\n",
       "    <tr>\n",
       "      <th>3</th>\n",
       "      <td></td>\n",
       "      <td>[]</td>\n",
       "      <td>[{'href': 'https://www.instagram.com/_esthetic...</td>\n",
       "    </tr>\n",
       "    <tr>\n",
       "      <th>4</th>\n",
       "      <td></td>\n",
       "      <td>[]</td>\n",
       "      <td>[{'href': 'https://www.instagram.com/stelmascz...</td>\n",
       "    </tr>\n",
       "  </tbody>\n",
       "</table>\n",
       "</div>"
      ],
      "text/plain": [
       "  title media_list_data                                   string_list_data\n",
       "0                    []  [{'href': 'https://www.instagram.com/yash.jagt...\n",
       "1                    []  [{'href': 'https://www.instagram.com/kourt_leo...\n",
       "2                    []  [{'href': 'https://www.instagram.com/a.nniewhi...\n",
       "3                    []  [{'href': 'https://www.instagram.com/_esthetic...\n",
       "4                    []  [{'href': 'https://www.instagram.com/stelmascz..."
      ]
     },
     "execution_count": 27,
     "metadata": {},
     "output_type": "execute_result"
    }
   ],
   "source": [
    "foll_df.head()"
   ]
  },
  {
   "cell_type": "code",
   "execution_count": 28,
   "id": "5607c521-07b2-4c50-86db-f10938e7ce74",
   "metadata": {},
   "outputs": [
    {
     "data": {
      "text/plain": [
       "[{'href': 'https://www.instagram.com/yash.jagtap__',\n",
       "  'value': 'yash.jagtap__',\n",
       "  'timestamp': 1723482833}]"
      ]
     },
     "execution_count": 28,
     "metadata": {},
     "output_type": "execute_result"
    }
   ],
   "source": [
    "foll_df['string_list_data'].iloc[0]"
   ]
  },
  {
   "cell_type": "code",
   "execution_count": 29,
   "id": "1ef53ab2-8da8-4c82-b156-2cdeb4fc0fa5",
   "metadata": {},
   "outputs": [],
   "source": [
    "foll_df_tidy = foll_df.drop(columns = ['string_list_data', 'media_list_data'])"
   ]
  },
  {
   "cell_type": "code",
   "execution_count": 30,
   "id": "968e6cf3-aa56-4b24-8971-172ff43686bf",
   "metadata": {},
   "outputs": [
    {
     "data": {
      "text/html": [
       "<div>\n",
       "<style scoped>\n",
       "    .dataframe tbody tr th:only-of-type {\n",
       "        vertical-align: middle;\n",
       "    }\n",
       "\n",
       "    .dataframe tbody tr th {\n",
       "        vertical-align: top;\n",
       "    }\n",
       "\n",
       "    .dataframe thead th {\n",
       "        text-align: right;\n",
       "    }\n",
       "</style>\n",
       "<table border=\"1\" class=\"dataframe\">\n",
       "  <thead>\n",
       "    <tr style=\"text-align: right;\">\n",
       "      <th></th>\n",
       "      <th>title</th>\n",
       "    </tr>\n",
       "  </thead>\n",
       "  <tbody>\n",
       "    <tr>\n",
       "      <th>0</th>\n",
       "      <td></td>\n",
       "    </tr>\n",
       "    <tr>\n",
       "      <th>1</th>\n",
       "      <td></td>\n",
       "    </tr>\n",
       "    <tr>\n",
       "      <th>2</th>\n",
       "      <td></td>\n",
       "    </tr>\n",
       "    <tr>\n",
       "      <th>3</th>\n",
       "      <td></td>\n",
       "    </tr>\n",
       "    <tr>\n",
       "      <th>4</th>\n",
       "      <td></td>\n",
       "    </tr>\n",
       "    <tr>\n",
       "      <th>...</th>\n",
       "      <td>...</td>\n",
       "    </tr>\n",
       "    <tr>\n",
       "      <th>436</th>\n",
       "      <td></td>\n",
       "    </tr>\n",
       "    <tr>\n",
       "      <th>437</th>\n",
       "      <td></td>\n",
       "    </tr>\n",
       "    <tr>\n",
       "      <th>438</th>\n",
       "      <td></td>\n",
       "    </tr>\n",
       "    <tr>\n",
       "      <th>439</th>\n",
       "      <td></td>\n",
       "    </tr>\n",
       "    <tr>\n",
       "      <th>440</th>\n",
       "      <td></td>\n",
       "    </tr>\n",
       "  </tbody>\n",
       "</table>\n",
       "<p>441 rows × 1 columns</p>\n",
       "</div>"
      ],
      "text/plain": [
       "    title\n",
       "0        \n",
       "1        \n",
       "2        \n",
       "3        \n",
       "4        \n",
       "..    ...\n",
       "436      \n",
       "437      \n",
       "438      \n",
       "439      \n",
       "440      \n",
       "\n",
       "[441 rows x 1 columns]"
      ]
     },
     "execution_count": 30,
     "metadata": {},
     "output_type": "execute_result"
    }
   ],
   "source": [
    "foll_df_tidy"
   ]
  },
  {
   "cell_type": "code",
   "execution_count": 31,
   "id": "8ee3392d-acc5-49b1-be2a-618d777473b0",
   "metadata": {},
   "outputs": [],
   "source": [
    "foll_df_tidy['Account Name'] = [x[0]['value'] for x in foll_df['string_list_data']]\n",
    "foll_df_tidy['Account Link'] = [x[0]['href'] for x in foll_df['string_list_data']]\n",
    "foll_df_tidy['Timestamp'] = [+x[0]['timestamp'] for x in foll_df['string_list_data']]\n"
   ]
  },
  {
   "cell_type": "code",
   "execution_count": 32,
   "id": "17565341-2c48-4404-a8da-f450a503aaf0",
   "metadata": {},
   "outputs": [
    {
     "data": {
      "text/html": [
       "<div>\n",
       "<style scoped>\n",
       "    .dataframe tbody tr th:only-of-type {\n",
       "        vertical-align: middle;\n",
       "    }\n",
       "\n",
       "    .dataframe tbody tr th {\n",
       "        vertical-align: top;\n",
       "    }\n",
       "\n",
       "    .dataframe thead th {\n",
       "        text-align: right;\n",
       "    }\n",
       "</style>\n",
       "<table border=\"1\" class=\"dataframe\">\n",
       "  <thead>\n",
       "    <tr style=\"text-align: right;\">\n",
       "      <th></th>\n",
       "      <th>title</th>\n",
       "      <th>Account Name</th>\n",
       "      <th>Account Link</th>\n",
       "      <th>Timestamp</th>\n",
       "    </tr>\n",
       "  </thead>\n",
       "  <tbody>\n",
       "    <tr>\n",
       "      <th>0</th>\n",
       "      <td></td>\n",
       "      <td>yash.jagtap__</td>\n",
       "      <td>https://www.instagram.com/yash.jagtap__</td>\n",
       "      <td>1723482833</td>\n",
       "    </tr>\n",
       "    <tr>\n",
       "      <th>1</th>\n",
       "      <td></td>\n",
       "      <td>kourt_leonard</td>\n",
       "      <td>https://www.instagram.com/kourt_leonard</td>\n",
       "      <td>1720904032</td>\n",
       "    </tr>\n",
       "    <tr>\n",
       "      <th>2</th>\n",
       "      <td></td>\n",
       "      <td>a.nniewhite</td>\n",
       "      <td>https://www.instagram.com/a.nniewhite</td>\n",
       "      <td>1720889727</td>\n",
       "    </tr>\n",
       "    <tr>\n",
       "      <th>3</th>\n",
       "      <td></td>\n",
       "      <td>_estheticsbytaylor_</td>\n",
       "      <td>https://www.instagram.com/_estheticsbytaylor_</td>\n",
       "      <td>1719277333</td>\n",
       "    </tr>\n",
       "    <tr>\n",
       "      <th>4</th>\n",
       "      <td></td>\n",
       "      <td>stelmasczuk.n</td>\n",
       "      <td>https://www.instagram.com/stelmasczuk.n</td>\n",
       "      <td>1716935468</td>\n",
       "    </tr>\n",
       "    <tr>\n",
       "      <th>5</th>\n",
       "      <td></td>\n",
       "      <td>kaylaisanidiot</td>\n",
       "      <td>https://www.instagram.com/kaylaisanidiot</td>\n",
       "      <td>1716935390</td>\n",
       "    </tr>\n",
       "    <tr>\n",
       "      <th>6</th>\n",
       "      <td></td>\n",
       "      <td>ky.casenhi</td>\n",
       "      <td>https://www.instagram.com/ky.casenhi</td>\n",
       "      <td>1716935390</td>\n",
       "    </tr>\n",
       "    <tr>\n",
       "      <th>7</th>\n",
       "      <td></td>\n",
       "      <td>jasperwyd</td>\n",
       "      <td>https://www.instagram.com/jasperwyd</td>\n",
       "      <td>1716935385</td>\n",
       "    </tr>\n",
       "    <tr>\n",
       "      <th>8</th>\n",
       "      <td></td>\n",
       "      <td>_.bwightman._</td>\n",
       "      <td>https://www.instagram.com/_.bwightman._</td>\n",
       "      <td>1716732034</td>\n",
       "    </tr>\n",
       "    <tr>\n",
       "      <th>9</th>\n",
       "      <td></td>\n",
       "      <td>a.b.b.y.al</td>\n",
       "      <td>https://www.instagram.com/a.b.b.y.al</td>\n",
       "      <td>1716727078</td>\n",
       "    </tr>\n",
       "    <tr>\n",
       "      <th>10</th>\n",
       "      <td></td>\n",
       "      <td>elainajackson_</td>\n",
       "      <td>https://www.instagram.com/elainajackson_</td>\n",
       "      <td>1715956186</td>\n",
       "    </tr>\n",
       "  </tbody>\n",
       "</table>\n",
       "</div>"
      ],
      "text/plain": [
       "   title         Account Name                                   Account Link  \\\n",
       "0               yash.jagtap__        https://www.instagram.com/yash.jagtap__   \n",
       "1               kourt_leonard        https://www.instagram.com/kourt_leonard   \n",
       "2                 a.nniewhite          https://www.instagram.com/a.nniewhite   \n",
       "3         _estheticsbytaylor_  https://www.instagram.com/_estheticsbytaylor_   \n",
       "4               stelmasczuk.n        https://www.instagram.com/stelmasczuk.n   \n",
       "5              kaylaisanidiot       https://www.instagram.com/kaylaisanidiot   \n",
       "6                  ky.casenhi           https://www.instagram.com/ky.casenhi   \n",
       "7                   jasperwyd            https://www.instagram.com/jasperwyd   \n",
       "8               _.bwightman._        https://www.instagram.com/_.bwightman._   \n",
       "9                  a.b.b.y.al           https://www.instagram.com/a.b.b.y.al   \n",
       "10             elainajackson_       https://www.instagram.com/elainajackson_   \n",
       "\n",
       "     Timestamp  \n",
       "0   1723482833  \n",
       "1   1720904032  \n",
       "2   1720889727  \n",
       "3   1719277333  \n",
       "4   1716935468  \n",
       "5   1716935390  \n",
       "6   1716935390  \n",
       "7   1716935385  \n",
       "8   1716732034  \n",
       "9   1716727078  \n",
       "10  1715956186  "
      ]
     },
     "execution_count": 32,
     "metadata": {},
     "output_type": "execute_result"
    }
   ],
   "source": [
    "foll_df_tidy.head(11)"
   ]
  },
  {
   "cell_type": "markdown",
   "id": "3d4b8650-3df5-4506-a5b4-f146f11f595f",
   "metadata": {},
   "source": [
    "Final Thoughts\n",
    "\n",
    "1) I feel that the data in this DataFrame represents the people who I follow, as well as the web link to their instagram account and the timestamp that I followed them at.\n",
    "\n",
    "2) I feel as though this DataFrame meets tidy principles, a the data is very easily readable, including custom headings that describe the different information that the table is representing.\n",
    "\n",
    "3) I feel this data is a very accurate representation of my hypothesis, as I was able to use it to create a more thorough table with more data with clear and concise labels.\n",
    "\n",
    "4) The main part of the data that is still confusing to me is the Timestamp label, as I don't fully understand what the numbers that the Timestamp gives mean, and I am curious to see if there is a way that we can translate the data that it gives to a more readable output.\n",
    "\n",
    "5) Overall, it is really cool to be able to see how my data translates into code and my favorite part about this was probably getting to see the amount of posts I have liked from specific accounts."
   ]
  }
 ],
 "metadata": {
  "kernelspec": {
   "display_name": "Python 3 (ipykernel)",
   "language": "python",
   "name": "python3"
  },
  "language_info": {
   "codemirror_mode": {
    "name": "ipython",
    "version": 3
   },
   "file_extension": ".py",
   "mimetype": "text/x-python",
   "name": "python",
   "nbconvert_exporter": "python",
   "pygments_lexer": "ipython3",
   "version": "3.12.4"
  }
 },
 "nbformat": 4,
 "nbformat_minor": 5
}
