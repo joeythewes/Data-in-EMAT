{
 "cells": [
  {
   "cell_type": "markdown",
   "id": "16020a49-5e15-4cf1-8c2c-86ddde315256",
   "metadata": {},
   "source": [
    "Joey Thewes - Instagram Likes Posts Data\n",
    "    \n",
    "1) The source of the data is from posts that I liked throughout how long I have had instagram.\n",
    "    \n",
    "2) This data was created to provide a visual representation for the account names of the posts that I like on instagram, as well as to show the timestamp I liked it at. This data can serve the purpose of showing me who's accounts I liked posts on, and later in the projects the data can show me how many times I have liked a certain accounts post\n",
    "    \n",
    "3) This data can be reliable to help show me the accounts that I have liked.\n",
    "    \n",
    "4) The base data before I find out how many times I have liked certain accounts posts is very broad, and the timestamp column is not very helpful as I am not too sure on what the numbers that it provides represent.\n",
    "    "
   ]
  },
  {
   "cell_type": "code",
   "execution_count": null,
   "id": "876e2fae-fc1f-46cb-83a5-81c2d44bf998",
   "metadata": {},
   "outputs": [],
   "source": [
    "import json\n",
    "import pandas as pd"
   ]
  },
  {
   "cell_type": "code",
   "execution_count": null,
   "id": "90ebf723-f9a7-46e9-b4b4-4ccc5246f3eb",
   "metadata": {},
   "outputs": [],
   "source": [
    "path = r\"C:\\Users\\Joey\\data-EMAT-fa24\\liked_posts.json\"\n",
    "with open(path) as j:\n",
    "    likes = json.load(j)"
   ]
  },
  {
   "cell_type": "code",
   "execution_count": null,
   "id": "2bedb682-a6eb-4944-8a34-2acacaa02818",
   "metadata": {},
   "outputs": [],
   "source": [
    "likes.keys()"
   ]
  },
  {
   "cell_type": "code",
   "execution_count": null,
   "id": "09510694-0b47-45ff-89f0-6f7935373283",
   "metadata": {},
   "outputs": [],
   "source": [
    "likes_df = pd.DataFrame(likes['likes_media_likes'])\n",
    "likes_df.head()"
   ]
  },
  {
   "cell_type": "code",
   "execution_count": null,
   "id": "31b1e53b-7ccc-48fa-9f4d-e6b5efdeeca9",
   "metadata": {},
   "outputs": [],
   "source": [
    "likes_df_tidy = likes_df.drop(columns = ['string_list_data'])"
   ]
  },
  {
   "cell_type": "code",
   "execution_count": null,
   "id": "0b81879c-2e0c-4fee-ad3d-a6af087fe070",
   "metadata": {},
   "outputs": [],
   "source": [
    "#likes_df_tidy"
   ]
  },
  {
   "cell_type": "code",
   "execution_count": null,
   "id": "f8d97c67-d805-43fc-a647-014feab2978b",
   "metadata": {},
   "outputs": [],
   "source": [
    "likes_df.keys()"
   ]
  },
  {
   "cell_type": "code",
   "execution_count": null,
   "id": "6d3cf0b1-62eb-4e8a-beaf-4475cc6b1262",
   "metadata": {},
   "outputs": [],
   "source": [
    "likes_df['string_list_data'].iloc[0]"
   ]
  },
  {
   "cell_type": "code",
   "execution_count": null,
   "id": "551f4b0b-9a1e-4ca4-b233-d85805bba131",
   "metadata": {},
   "outputs": [],
   "source": [
    "type(likes_df['string_list_data'].iloc[0])"
   ]
  },
  {
   "cell_type": "code",
   "execution_count": null,
   "id": "f8749222-5b60-47b9-8e22-f0a2230e053e",
   "metadata": {},
   "outputs": [],
   "source": [
    "len(likes_df['string_list_data'].iloc[0])"
   ]
  },
  {
   "cell_type": "code",
   "execution_count": null,
   "id": "0a9954fd-fbd2-43be-bb4f-f2584dc099f1",
   "metadata": {},
   "outputs": [],
   "source": [
    "likes_df['string_list_data'].iloc[0][0]"
   ]
  },
  {
   "cell_type": "code",
   "execution_count": null,
   "id": "b7ced6dc-c148-46f9-8ac0-37fde805f7de",
   "metadata": {},
   "outputs": [],
   "source": [
    "type(likes_df['string_list_data'].iloc[0][0])"
   ]
  },
  {
   "cell_type": "code",
   "execution_count": null,
   "id": "73f2d092-f98a-4d9c-84bc-4d065c07e3e4",
   "metadata": {},
   "outputs": [],
   "source": [
    "likes_df['string_list_data'].iloc[0][0]['timestamp']"
   ]
  },
  {
   "cell_type": "code",
   "execution_count": null,
   "id": "2b6ac0c5-2021-4c5f-bdbd-1845b2df6d83",
   "metadata": {},
   "outputs": [],
   "source": [
    "[x for x in likes_df['string_list_data']]"
   ]
  },
  {
   "cell_type": "code",
   "execution_count": null,
   "id": "60d084e0-ffde-41e2-b0cf-0e573ac71dad",
   "metadata": {},
   "outputs": [],
   "source": [
    "[x[0] for x in likes_df['string_list_data']]"
   ]
  },
  {
   "cell_type": "code",
   "execution_count": null,
   "id": "522547cb-dba2-455d-9d5c-60833ed6fa40",
   "metadata": {},
   "outputs": [],
   "source": [
    "[x[0]['timestamp'] for x in likes_df['string_list_data']]"
   ]
  },
  {
   "cell_type": "code",
   "execution_count": null,
   "id": "dde7d251-e987-4107-854e-016238ea4556",
   "metadata": {},
   "outputs": [],
   "source": [
    "likes_df_tidy['timestamp'] = [+x[0]['timestamp'] for x in likes_df['string_list_data']]"
   ]
  },
  {
   "cell_type": "code",
   "execution_count": null,
   "id": "6a93ee91-2d82-4c58-91d4-1bf34a289d68",
   "metadata": {},
   "outputs": [],
   "source": [
    "likes_df_tidy.head(11)"
   ]
  },
  {
   "cell_type": "markdown",
   "id": "3357c631-bd60-4b53-81c6-82f99218e2ad",
   "metadata": {},
   "source": [
    "Hypothesis:\n",
    "\n",
    "My hypothesis that could be tested with some more of my personal data is to try to see if I can find out more data about my followers, as well as expand the table to include more information that can also be more helpful.\n",
    "\n",
    "The theoretical elements of my hypothesis are whether or not I am able to add more columns to my table with more information\n",
    "\n",
    "The statistical elements of my hypothesis are the collection of the account data and the amount of whatever I am collecting"
   ]
  },
  {
   "cell_type": "code",
   "execution_count": null,
   "id": "4725bb62-9ff8-4235-ab7d-aba044d522fe",
   "metadata": {},
   "outputs": [],
   "source": [
    "likes_df2 = pd.DataFrame(x[0] for x in likes_df['string_list_data'])"
   ]
  },
  {
   "cell_type": "code",
   "execution_count": null,
   "id": "a1d9adcb-7fd8-4c67-8135-e713e84b59f5",
   "metadata": {},
   "outputs": [],
   "source": [
    "likes_df2"
   ]
  },
  {
   "cell_type": "code",
   "execution_count": null,
   "id": "754fb88c-4a3d-47df-ac51-bab48da22758",
   "metadata": {},
   "outputs": [],
   "source": [
    "likes_df2['title'] = likes_df['title']\n",
    "likes_df2.head()"
   ]
  },
  {
   "cell_type": "code",
   "execution_count": null,
   "id": "fd870c09-19d6-4b79-b27c-ab18e6d3af88",
   "metadata": {
    "scrolled": true
   },
   "outputs": [],
   "source": [
    "likes_df2.groupby('title').count().sort_values('timestamp', ascending = False).head(10)"
   ]
  },
  {
   "cell_type": "code",
   "execution_count": null,
   "id": "f1422b61-2c29-4d5d-ac7a-f6b04a0da758",
   "metadata": {},
   "outputs": [],
   "source": [
    "likes_df_tidy.groupby('title').count().sort_values('timestamp', ascending = False)"
   ]
  },
  {
   "cell_type": "code",
   "execution_count": null,
   "id": "d557f8ac-17a7-4e9e-849f-bf3f6eb8f207",
   "metadata": {},
   "outputs": [],
   "source": [
    "path = r\"C:\\Users\\Joey\\data-EMAT-fa24\\following.json\"\n",
    "with open(path) as c:\n",
    "    foll = json.load(c)"
   ]
  },
  {
   "cell_type": "code",
   "execution_count": null,
   "id": "255d50c2-6adf-4bf4-9e3d-91a1847ef34a",
   "metadata": {},
   "outputs": [],
   "source": [
    "foll.keys()"
   ]
  },
  {
   "cell_type": "code",
   "execution_count": null,
   "id": "96f46400-4376-4de5-aaca-d3e8bd08b240",
   "metadata": {},
   "outputs": [],
   "source": [
    "foll_df = pd.DataFrame(foll['relationships_following'])"
   ]
  },
  {
   "cell_type": "code",
   "execution_count": null,
   "id": "4b962c9f-9451-4568-826f-39d3cc02cb69",
   "metadata": {},
   "outputs": [],
   "source": [
    "foll_df.head()"
   ]
  },
  {
   "cell_type": "code",
   "execution_count": null,
   "id": "5607c521-07b2-4c50-86db-f10938e7ce74",
   "metadata": {},
   "outputs": [],
   "source": [
    "foll_df['string_list_data'].iloc[0]"
   ]
  },
  {
   "cell_type": "code",
   "execution_count": null,
   "id": "1ef53ab2-8da8-4c82-b156-2cdeb4fc0fa5",
   "metadata": {},
   "outputs": [],
   "source": [
    "foll_df_tidy = foll_df.drop(columns = ['string_list_data', 'media_list_data'])"
   ]
  },
  {
   "cell_type": "code",
   "execution_count": null,
   "id": "968e6cf3-aa56-4b24-8971-172ff43686bf",
   "metadata": {},
   "outputs": [],
   "source": [
    "foll_df_tidy"
   ]
  },
  {
   "cell_type": "code",
   "execution_count": null,
   "id": "8ee3392d-acc5-49b1-be2a-618d777473b0",
   "metadata": {},
   "outputs": [],
   "source": [
    "foll_df_tidy['Account Name'] = [x[0]['value'] for x in foll_df['string_list_data']]\n",
    "foll_df_tidy['Account Link'] = [x[0]['href'] for x in foll_df['string_list_data']]\n",
    "foll_df_tidy['Timestamp'] = [+x[0]['timestamp'] for x in foll_df['string_list_data']]\n"
   ]
  },
  {
   "cell_type": "code",
   "execution_count": null,
   "id": "17565341-2c48-4404-a8da-f450a503aaf0",
   "metadata": {},
   "outputs": [],
   "source": [
    "foll_df_tidy.head(11)"
   ]
  },
  {
   "cell_type": "markdown",
   "id": "3d4b8650-3df5-4506-a5b4-f146f11f595f",
   "metadata": {},
   "source": [
    "Final Thoughts\n",
    "\n",
    "1) I feel that the data in this DataFrame represents the people who I follow, as well as the web link to their instagram account and the timestamp that I followed them at.\n",
    "\n",
    "2) I feel as though this DataFrame meets tidy principles, a the data is very easily readable, including custom headings that describe the different information that the table is representing.\n",
    "\n",
    "3) I feel this data is a very accurate representation of my hypothesis, as I was able to use it to create a more thorough table with more data with clear and concise labels.\n",
    "\n",
    "4) The main part of the data that is still confusing to me is the Timestamp label, as I don't fully understand what the numbers that the Timestamp gives mean, and I am curious to see if there is a way that we can translate the data that it gives to a more readable output.\n",
    "\n",
    "5) Overall, it is really cool to be able to see how my data translates into code and my favorite part about this was probably getting to see the amount of posts I have liked from specific accounts."
   ]
  },
  {
   "cell_type": "code",
   "execution_count": null,
   "id": "68be08bf-7c54-49af-9e41-eaaa3a047d4a",
   "metadata": {},
   "outputs": [],
   "source": []
  }
 ],
 "metadata": {
  "kernelspec": {
   "display_name": "Python 3 (ipykernel)",
   "language": "python",
   "name": "python3"
  },
  "language_info": {
   "codemirror_mode": {
    "name": "ipython",
    "version": 3
   },
   "file_extension": ".py",
   "mimetype": "text/x-python",
   "name": "python",
   "nbconvert_exporter": "python",
   "pygments_lexer": "ipython3",
   "version": "3.12.4"
  }
 },
 "nbformat": 4,
 "nbformat_minor": 5
}
