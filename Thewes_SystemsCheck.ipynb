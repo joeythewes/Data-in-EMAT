{
 "cells": [
  {
   "cell_type": "markdown",
   "id": "386ad88e-ada0-492f-9a9a-cc1d5945577b",
   "metadata": {},
   "source": [
    "# Systems Check\n",
    "## Joey Thewes\n",
    "### 8/22/2024\n",
    "\n",
    "In this class I would __love__ to learn how to use python code _effectively_\n",
    "\n",
    "I am also excited to:\n",
    "\n",
    "1. Learn more about where python is used in my daily life\n",
    "2. Learn more about Professor Silva\n",
    "3. Be able to use python by the end of the course\n",
    "\n",
    "- look at this\n",
    "- cool list\n",
    "- what a cool list\n",
    "\n",
    "![code](https://storage.googleapis.com/kaggle-datasets-images/1631154/2684953/edd86dc457dea7f0c6ad10025ae46211/dataset-cover.jpg?t=2021-10-07-14-49-58)\n"
   ]
  }
 ],
 "metadata": {
  "kernelspec": {
   "display_name": "Python 3 (ipykernel)",
   "language": "python",
   "name": "python3"
  },
  "language_info": {
   "codemirror_mode": {
    "name": "ipython",
    "version": 3
   },
   "file_extension": ".py",
   "mimetype": "text/x-python",
   "name": "python",
   "nbconvert_exporter": "python",
   "pygments_lexer": "ipython3",
   "version": "3.12.4"
  }
 },
 "nbformat": 4,
 "nbformat_minor": 5
}
